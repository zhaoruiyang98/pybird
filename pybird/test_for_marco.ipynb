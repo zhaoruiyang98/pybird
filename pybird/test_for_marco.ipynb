{
 "cells": [
  {
   "cell_type": "code",
   "execution_count": 1,
   "metadata": {},
   "outputs": [],
   "source": [
    "import numpy as np\n",
    "import matplotlib.pyplot as plt\n",
    "from classy import Class\n",
    "import pybird"
   ]
  },
  {
   "cell_type": "markdown",
   "metadata": {},
   "source": [
    "### Factorizing all time dependence from PyBird..."
   ]
  },
  {
   "cell_type": "code",
   "execution_count": 2,
   "metadata": {},
   "outputs": [],
   "source": [
    "zpk = .57"
   ]
  },
  {
   "cell_type": "code",
   "execution_count": 3,
   "metadata": {},
   "outputs": [],
   "source": [
    "from classy import Class\n",
    "M = Class()\n",
    "M.set({'omega_b': 0.02237, 'omega_cdm': 0.120, 'h': 0.6736, 'ln10^{10}A_s': 3.044, 'n_s': 0.9649})\n",
    "M.set({'output': 'mPk', 'P_k_max_1/Mpc': 1.0, 'z_max_pk': zpk})\n",
    "M.compute()\n",
    "f1 = M.scale_independent_growth_factor_f(zpk) # growth rate\n",
    "kk = np.logspace(-5, 0, 200) # k in h/Mpc\n",
    "pklin = np.array([M.pk(k*M.h(), zpk)*M.h()**3 for k in kk]) # P(k) in (Mpc/h)**3"
   ]
  },
  {
   "cell_type": "code",
   "execution_count": 4,
   "metadata": {},
   "outputs": [],
   "source": [
    "# here we call the internal array of PyBird\n",
    "kd = pybird.co.k"
   ]
  },
  {
   "cell_type": "code",
   "execution_count": 5,
   "metadata": {},
   "outputs": [],
   "source": [
    "N = pybird.Correlator()\n",
    "\n",
    "# 'with_exact_time': True, 'with_time': False : those two options are \n",
    "# for keeping all pieces multiplied with different time functions (and EFT parameters) independent\n",
    "N.set({'output': 'bPk', 'multipole': 3, 'xdata': kd, 'resum': False, 'with_exact_time': True, 'with_time': False})\n",
    "N.compute({'k11': kk, 'P11': pklin, 'f': f1, 'z': zpk, 'Omega0_m': M.Omega0_m()}) \n",
    "\n",
    "# the following computes the IR-corrections; setPs=False such that the IR-corrections are not added to the pieces\n",
    "N.resum.Ps(N.bird, makeIR=True, makeQ=True, setPs=False, window=None) \n",
    "# note that no observational effects are applied on the IR-corrections (no AP, no binning, etc.)\n",
    "# let me know if this is a problem!"
   ]
  },
  {
   "cell_type": "markdown",
   "metadata": {},
   "source": [
    "(non-resummed) linear, loop, and counterterm pieces: shape = (nmult, nterm, nk)\n",
    "\n",
    "you can find the (EFT parameters x time functions) multiplying each loop piece in bird.py from l. 433 to 467\n",
    "\n",
    "In principle, for your interpolator you just need one P11 and one Pct I guess..."
   ]
  },
  {
   "cell_type": "code",
   "execution_count": 6,
   "metadata": {},
   "outputs": [
    {
     "name": "stdout",
     "output_type": "stream",
     "text": [
      "(3, 3, 64) (3, 35, 64) (3, 6, 64)\n"
     ]
    }
   ],
   "source": [
    "print ( N.bird.P11l.shape, N.bird.Ploopl.shape, N.bird.Pctl.shape )"
   ]
  },
  {
   "cell_type": "markdown",
   "metadata": {},
   "source": [
    "IR-corrections: \n",
    "\n",
    "linear and counterterms: shape = (nmult, nIR, nk) (so here indeed I just use one before projecting on the multipoles)\n",
    "\n",
    "loop: shape = (nmult, nterm, nIR, nk)\n",
    "\n",
    "The time dependence of depends on nIR. Basically, you have: \n",
    "\n",
    "IR-corrections ~ X^nIR  \\xi : check Eq. (9) in the PyBird paper (also Eq. (15) in 2111.05739)"
   ]
  },
  {
   "cell_type": "code",
   "execution_count": 7,
   "metadata": {},
   "outputs": [
    {
     "name": "stdout",
     "output_type": "stream",
     "text": [
      "(3, 96, 64) (3, 35, 96, 64) (3, 96, 64)\n"
     ]
    }
   ],
   "source": [
    "print (N.bird.IRPs11.shape, N.bird.IRPsloop.shape, N.bird.IRPsct.shape)"
   ]
  },
  {
   "cell_type": "markdown",
   "metadata": {},
   "source": [
    "those are multiplied by the time functions Q (of f): shape = (norder, nmult, nmult', nIR) : check Eq. (9) in the PyBird paper and the start of resumfactor.py\n",
    "\n",
    "Q[0] is the to resum the linear part, Q[1] is to resum the loop part : check setIRPs() in bird.py"
   ]
  },
  {
   "cell_type": "code",
   "execution_count": 8,
   "metadata": {},
   "outputs": [
    {
     "name": "stdout",
     "output_type": "stream",
     "text": [
      "(2, 3, 3, 96)\n"
     ]
    }
   ],
   "source": [
    "print (N.bird.Q.shape)"
   ]
  },
  {
   "cell_type": "markdown",
   "metadata": {},
   "source": [
    "### Test"
   ]
  },
  {
   "cell_type": "code",
   "execution_count": 9,
   "metadata": {},
   "outputs": [],
   "source": [
    "bias = { \"b1\": 2., \"b2\": 0.6, \"b3\": 0.2, \"b4\": 1.2, \"cct\": 1.2, 'cr1': -1.6, 'cr2': 2. }\n",
    "bpk = N.get(bias)"
   ]
  },
  {
   "cell_type": "code",
   "execution_count": 10,
   "metadata": {},
   "outputs": [
    {
     "data": {
      "image/png": "[encoded data removed]",
      "text/plain": [
       "<Figure size 432x288 with 1 Axes>"
      ]
     },
     "metadata": {
      "needs_background": "light"
     },
     "output_type": "display_data"
    }
   ],
   "source": [
    "for i in range(3): plt.plot(kd, kd*bpk[i])"
   ]
  },
  {
   "cell_type": "code",
   "execution_count": null,
   "metadata": {},
   "outputs": [],
   "source": []
  }
 ],
 "metadata": {
  "kernelspec": {
   "display_name": "Python 3",
   "language": "python",
   "name": "python3"
  },
  "language_info": {
   "codemirror_mode": {
    "name": "ipython",
    "version": 3
   },
   "file_extension": ".py",
   "mimetype": "text/x-python",
   "name": "python",
   "nbconvert_exporter": "python",
   "pygments_lexer": "ipython3",
   "version": "3.7.3"
  }
 },
 "nbformat": 4,
 "nbformat_minor": 2
}
