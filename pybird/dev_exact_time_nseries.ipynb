{
 "cells": [
  {
   "cell_type": "code",
   "execution_count": 1,
   "metadata": {},
   "outputs": [],
   "source": [
    "# Import relevant modules\n",
    "import matplotlib\n",
    "import matplotlib.pyplot as plt\n",
    "import numpy as np\n",
    "from classy import Class\n",
    "import pybird\n",
    "from importlib import reload\n",
    "import os\n",
    "from scipy.interpolate import interp1d\n",
    "from copy import deepcopy"
   ]
  },
  {
   "cell_type": "code",
   "execution_count": 2,
   "metadata": {},
   "outputs": [
    {
     "data": {
      "text/plain": [
       "Text(0.5, 1.0, 'ABC123 vs $\\\\mathrm{ABC123}^{123}$')"
      ]
     },
     "execution_count": 2,
     "metadata": {},
     "output_type": "execute_result"
    },
    {
     "data": {
      "image/png": "[encoded data removed]",
      "text/plain": [
       "<Figure size 432x288 with 1 Axes>"
      ]
     },
     "metadata": {
      "needs_background": "light"
     },
     "output_type": "display_data"
    }
   ],
   "source": [
    "font = {'size': 14}\n",
    "axislabelfontsize='large'\n",
    "matplotlib.rc('font', **font)\n",
    "matplotlib.mathtext.rcParams['legend.fontsize']='medium'\n",
    "matplotlib.rcParams['mathtext.fontset'] = 'stix'\n",
    "matplotlib.rcParams['font.family'] = 'STIXGeneral'\n",
    "matplotlib.pyplot.title(r'ABC123 vs $\\mathrm{ABC123}^{123}$')"
   ]
  },
  {
   "cell_type": "code",
   "execution_count": 3,
   "metadata": {},
   "outputs": [],
   "source": [
    "zpk = 0.55"
   ]
  },
  {
   "cell_type": "code",
   "execution_count": 4,
   "metadata": {},
   "outputs": [],
   "source": [
    "from scipy.optimize import fsolve\n",
    "\n",
    "def get_masses(sum_masses, hierarchy='NH'):\n",
    "    # a function returning the three masses given the Delta m^2, the total mass, and the hierarchy (e.g. 'IN' or 'IH')\n",
    "    # Values are in the latest PDG\n",
    "    # any string containing letter 'n' will be considered as refering to normal hierarchy\n",
    "    if 'n' in hierarchy.lower():\n",
    "        # Normal hierarchy massive neutrinos. Calculates the individual\n",
    "        # neutrino masses from M_tot_NH and deletes M_tot_NH\n",
    "        delta_m_squared_21 = 7.37e-5\n",
    "        delta_m_squared_31 = 2.56e-3\n",
    "        def m1_func(m1, M_tot):\n",
    "            return M_tot**2 - (m1 + np.sqrt(m1**2 + delta_m_squared_21) + np.sqrt(m1**2 + delta_m_squared_31))**2\n",
    "        m1, opt_output, success, output_message = fsolve(\n",
    "            m1_func, sum_masses/3., (sum_masses), full_output=True, xtol=1e-04, maxfev=500)\n",
    "        m1 = m1[0]\n",
    "        m2 = (delta_m_squared_21 + m1**2.)**0.5\n",
    "        m3 = (delta_m_squared_31 + m1**2.)**0.5\n",
    "        return m1, m2, m3\n",
    "    else:\n",
    "        return None"
   ]
  },
  {
   "cell_type": "code",
   "execution_count": 5,
   "metadata": {},
   "outputs": [],
   "source": [
    "def load_cosmo(basedir, chainname, skycut=1, nu=False):\n",
    "    bf = np.loadtxt(os.path.join(basedir, chainname, '%s.bestfit') % chainname)\n",
    "    if bf[2]>2.: bf[2] /= 100.\n",
    "    if nu: \n",
    "        cosmo = {'omega_b': bf[0], 'omega_cdm': bf[1], 'h': bf[2], 'ln10^{10}A_s': bf[3], 'n_s': bf[4], \n",
    "                    'N_ur': 0.00641, 'N_ncdm': 3, 'm_ncdm': r'%g, %g, %g' % get_masses(bf[5])}\n",
    "            \n",
    "        print (cosmo)\n",
    "    else: cosmo = {'omega_b': bf[0], 'omega_cdm': bf[1], 'h': bf[2], 'ln10^{10}A_s': bf[3], 'n_s': bf[4], }\n",
    "    if nu:\n",
    "        if skycut ==1: b1c2 = np.array([bf[6], bf[7]])\n",
    "        elif skycut ==2: b1c2 = np.array([bf[8], bf[9]])\n",
    "        elif skycut ==3: b1c2 = np.array([bf[10], bf[11]])\n",
    "        elif skycut ==4: b1c2 = np.array([bf[12], bf[13]])\n",
    "    else: b1c2 = np.array([bf[5], bf[6]])\n",
    "    return cosmo, b1c2"
   ]
  },
  {
   "cell_type": "code",
   "execution_count": 6,
   "metadata": {},
   "outputs": [],
   "source": [
    "#cosmo, b1c2 = load_cosmo('/Users/pierre/Documents/github/montepython_public-3.3/wcdm/', 'ncdm_eft_bao', nu=True)\n",
    "cosmo = {'omega_b': 0.02303, 'omega_cdm': 0.11711, 'h': 0.7, 'ln10^{10}A_s': 3.06652, 'n_s': 0.96}\n",
    "b1c2 = np.array([2., 0.8])"
   ]
  },
  {
   "cell_type": "code",
   "execution_count": 7,
   "metadata": {},
   "outputs": [
    {
     "name": "stdout",
     "output_type": "stream",
     "text": [
      "0.31\n"
     ]
    }
   ],
   "source": [
    "Mref = Class()\n",
    "cosmoref = {'omega_b': 0.02303, 'omega_cdm': 0.310*0.7**2-0.02303, 'h': 0.7, 'ln10^{10}A_s': 3.06652, 'n_s': 0.96}\n",
    "Mref.set(cosmoref)\n",
    "Mref.set({'output': 'mPk', 'P_k_max_h/Mpc': 1.0,'z_max_pk': zpk})\n",
    "Mref.compute()\n",
    "print (Mref.Omega0_m())"
   ]
  },
  {
   "cell_type": "code",
   "execution_count": 24,
   "metadata": {},
   "outputs": [
    {
     "name": "stdout",
     "output_type": "stream",
     "text": [
      "0.286\n"
     ]
    }
   ],
   "source": [
    "Mfit = Class()\n",
    "Omega_m = 0.286# 0.277\n",
    "cosmofit = {'omega_b': 0.02303, 'omega_cdm': Omega_m*0.7**2-0.02303, 'h': 0.7, 'ln10^{10}A_s': 3.06652, 'n_s': 0.96}\n",
    "Mfit.set(cosmofit)\n",
    "Mfit.set({'output': 'mPk', 'P_k_max_h/Mpc': 1.0,'z_max_pk': zpk})\n",
    "Mfit.compute()\n",
    "print (Mfit.Omega0_m())"
   ]
  },
  {
   "cell_type": "code",
   "execution_count": 25,
   "metadata": {},
   "outputs": [
    {
     "name": "stdout",
     "output_type": "stream",
     "text": [
      "0.28600000000000003\n"
     ]
    }
   ],
   "source": [
    "Mtrue = Class()\n",
    "cosmo = {'omega_b': 0.02303, 'omega_cdm': 0.11711, 'h': 0.7, 'ln10^{10}A_s': 3.06652, 'n_s': 0.96}\n",
    "Mtrue.set(cosmo)\n",
    "Mtrue.set({'output': 'mPk', 'P_k_max_h/Mpc': 1.0,'z_max_pk': zpk})\n",
    "Mtrue.compute()\n",
    "print(Mtrue.Omega0_m())"
   ]
  },
  {
   "cell_type": "code",
   "execution_count": null,
   "metadata": {},
   "outputs": [],
   "source": []
  },
  {
   "cell_type": "code",
   "execution_count": 83,
   "metadata": {},
   "outputs": [
    {
     "name": "stdout",
     "output_type": "stream",
     "text": [
      "MONO 1.0501342021945945 1.1265283627655143\n",
      "RATIO MONO/QUAD 0.9560218286288665\n",
      "QUAD 1.003951220287792 1.07698570537337\n",
      "BISP 1.1027818426188774 1.2690661521151507\n"
     ]
    }
   ],
   "source": [
    "zeff = 0.55\n",
    "ztrue = 0.5\n",
    "\n",
    "qperp = Mtrue.angular_distance(zeff) / Mref.angular_distance(zeff) * Mtrue.angular_distance(ztrue) / Mtrue.angular_distance(zeff)  \n",
    "qpar = Mref.Hubble(zeff) / Mtrue.Hubble(zeff) * Mtrue.Hubble(zeff) / Mtrue.Hubble(ztrue)  \n",
    "\n",
    "# this is good, I do not why\n",
    "zgood = 0.55\n",
    "qperp_good = Mfit.angular_distance(zgood) / Mref.angular_distance(zgood)  \n",
    "qpar_good = Mref.Hubble(zgood) / Mfit.Hubble(zgood) \n",
    "\n",
    "Dtrue = Mtrue.scale_independent_growth_factor(ztrue)\n",
    "Dgood = Mfit.scale_independent_growth_factor(zgood)\n",
    "\n",
    "ftrue = Mtrue.scale_independent_growth_factor_f(ztrue)\n",
    "fgood = Mfit.scale_independent_growth_factor_f(zgood)\n",
    "\n",
    "amptrue = 1/(qperp**2 * qpar) * Dtrue**2\n",
    "ampgood =  1/(qperp_good**2 * qpar_good) * Dgood**2\n",
    "\n",
    "\n",
    "ampf2true = 1/(qperp**2 * qpar) * ftrue**2\n",
    "ampf2good =  1/(qperp_good**2 * qpar_good) * fgood**2\n",
    "\n",
    "ampD2f2true = 1/(qperp**2 * qpar) * Dtrue**2 * ftrue**2\n",
    "ampD2f2good =  1/(qperp_good**2 * qpar_good) * Dgood**2 * fgood**2\n",
    "\n",
    "ampbisptrue = 1/(qperp**4 * qpar**2) * Dtrue**4\n",
    "ampbispgood =  1/(qperp_good**4 * qpar_good**2) * Dgood**4\n",
    "\n",
    "print ('MONO', Dtrue**2 / Dgood**2, amptrue / ampgood)\n",
    "print ('RATIO MONO/QUAD', ftrue**2 / fgood**2) #, ampf2true / ampf2good)\n",
    "print ('QUAD', Dtrue**2 * ftrue**2 / (Dgood**2 * fgood**2) , ampD2f2true / ampD2f2good)\n",
    "print ('BISP', Dtrue**4 / Dgood**4, ampbisptrue / ampbispgood )\n",
    "\n",
    "# If f goes down, b1 goes down, As goes up!"
   ]
  },
  {
   "cell_type": "code",
   "execution_count": 80,
   "metadata": {},
   "outputs": [
    {
     "data": {
      "text/plain": [
       "0.9516604608631468"
      ]
     },
     "execution_count": 80,
     "metadata": {},
     "output_type": "execute_result"
    }
   ],
   "source": [
    "Mtrue.angular_distance(ztrue) / Mtrue.angular_distance(zeff) "
   ]
  },
  {
   "cell_type": "code",
   "execution_count": 81,
   "metadata": {},
   "outputs": [
    {
     "data": {
      "text/plain": [
       "0.9715415497739536"
      ]
     },
     "execution_count": 81,
     "metadata": {},
     "output_type": "execute_result"
    }
   ],
   "source": [
    "Mtrue.Hubble(ztrue) / Mtrue.Hubble(zeff) "
   ]
  },
  {
   "cell_type": "code",
   "execution_count": 82,
   "metadata": {},
   "outputs": [
    {
     "data": {
      "text/plain": [
       "1.1033854950539776"
      ]
     },
     "execution_count": 82,
     "metadata": {},
     "output_type": "execute_result"
    }
   ],
   "source": [
    "1/0.9063015641247667"
   ]
  },
  {
   "cell_type": "code",
   "execution_count": 529,
   "metadata": {},
   "outputs": [
    {
     "name": "stdout",
     "output_type": "stream",
     "text": [
      "{'b1': 2.0, 'b2': 0.565685424949238, 'b3': -1.17855741, 'b4': 0.565685424949238, 'cct': 0.41561274, 'cr1': -3.4946073, 'ce0': 0.99198482, 'ce2': -1.61644689, 'ce1': 0.0}\n"
     ]
    }
   ],
   "source": [
    "#bs = [b1c2[0], b1c2[1], 1.312043,  1.548082, -1.548082 * 8**.5 * 0.7, -3.868042, 0.8517391]\n",
    "bs = [b1c2[0], b1c2[1], -1.17855741,  0.41561274, -3.4946073, 0.99198482, -1.61644689]\n",
    "# bs = [2., 0.8, 0.2, 0.8, 0.2, -4., 0]\n",
    "bdict = { \"b1\": bs[0], \"b2\": bs[1]/np.sqrt(2.), \"b3\": bs[2], \"b4\":  bs[1]/np.sqrt(2.), \n",
    " \"cct\": bs[3], \"cr1\": bs[4], 'ce0': bs[5], 'ce2': bs[6], 'ce1': 0. }\n",
    "print (bdict)"
   ]
  },
  {
   "cell_type": "markdown",
   "metadata": {},
   "source": [
    "BOSS CMASS relative error"
   ]
  },
  {
   "cell_type": "code",
   "execution_count": 530,
   "metadata": {},
   "outputs": [],
   "source": [
    "from numpy.linalg import inv\n",
    "datapath = '/Users/pierre/Documents/github/montepython_public-3.3/data/pybird/'\n",
    "kb, pb1,_ = np.loadtxt( os.path.join(datapath, 'DataSims', 'ps1D_highzNGC.dat'), unpack=True)\n",
    "_, pb2,_ = np.loadtxt( os.path.join(datapath, 'DataSims', 'ps1D_highzSGC.dat'), unpack=True)\n",
    "cov1 = np.loadtxt( os.path.join(datapath, 'Covariance', 'Cov_highzNGC.dat') )\n",
    "cov2 = np.loadtxt( os.path.join(datapath, 'Covariance', 'Cov_highzSGC.dat') )\n",
    "cov = inv ( inv(cov1) + inv(cov2) )\n",
    "pb = np.dot( np.dot(pb1, inv(cov1)) + np.dot(pb2, inv(cov2)) , cov ) # CMASS NGC + SGC\n",
    "# np.savetxt('../../k_ps_err_CMASS.dat', np.vstack([kb, pb, np.sqrt(np.diag(cov))]).T)\n",
    "kb = kb.reshape(3,-1)[0]\n",
    "pb = pb.reshape(3,-1)\n",
    "sb = np.sqrt(np.diag(cov)).reshape(3,-1)\n",
    "eb = (sb/pb)[:,np.where(kb<0.35)[0]]\n",
    "kb = kb[np.where(kb<0.35)[0]]\n",
    "kd = kb"
   ]
  },
  {
   "cell_type": "markdown",
   "metadata": {},
   "source": [
    "Typical galaxy count distribution"
   ]
  },
  {
   "cell_type": "code",
   "execution_count": 531,
   "metadata": {},
   "outputs": [],
   "source": [
    "# zz = np.linspace(zpk-0.3, zpk+0.3, 100)\n",
    "# sigmaz = 0.1\n",
    "# def Gaussian(z, p=(zpk, sigmaz)):\n",
    "#     zc, dz = p\n",
    "#     return np.exp(-0.5*(z-zc)**2/dz**2)\n",
    "# nz = Gaussian(zz)\n",
    "# nz /= np.trapz(nz, x=zz)\n",
    "# plt.plot(zz, nz)"
   ]
  },
  {
   "cell_type": "markdown",
   "metadata": {},
   "source": [
    "Nseries galaxy count distribution"
   ]
  },
  {
   "cell_type": "code",
   "execution_count": 567,
   "metadata": {},
   "outputs": [
    {
     "name": "stdout",
     "output_type": "stream",
     "text": [
      "0.5436197203557319\n"
     ]
    },
    {
     "data": {
      "image/png": "[encoded data removed]",
      "text/plain": [
       "<Figure size 432x288 with 1 Axes>"
      ]
     },
     "metadata": {
      "needs_background": "light"
     },
     "output_type": "display_data"
    }
   ],
   "source": [
    "download_dir = os.path.join('/', 'Users', 'pierre', 'Documents', 'EFTofLSS', 'BOSS_measurements', 'catalogs', 'Nseries_prerecon')\n",
    "z, n, wfkp, w = np.loadtxt(os.path.join(download_dir, 'nbar_DR12v5_CMASS_North_om0p31_Pfkp10000.dat'), unpack=True, usecols=(0,3,4,6))\n",
    "zz = np.linspace(0.43, 0.7, 60)\n",
    "nz = interp1d(z, n*wfkp, kind='cubic')(zz)\n",
    "nz /= np.trapz(nz, x=zz)\n",
    "plt.plot(zz, nz)\n",
    "print (np.trapz(zz * nz**2, x=zz) / np.trapz(nz**2, x=zz))"
   ]
  },
  {
   "cell_type": "markdown",
   "metadata": {},
   "source": [
    "Growth function ratio"
   ]
  },
  {
   "cell_type": "code",
   "execution_count": 591,
   "metadata": {},
   "outputs": [
    {
     "data": {
      "text/plain": [
       "<module 'pybird' from '/Users/pierre/Documents/github/pybird/pybird_dev/pybird.py'>"
      ]
     },
     "execution_count": 591,
     "metadata": {},
     "output_type": "execute_result"
    }
   ],
   "source": [
    "reload(pybird)"
   ]
  },
  {
   "cell_type": "code",
   "execution_count": 592,
   "metadata": {},
   "outputs": [],
   "source": [
    "zpk = 0.5"
   ]
  },
  {
   "cell_type": "code",
   "execution_count": 593,
   "metadata": {},
   "outputs": [],
   "source": [
    "correlator = pybird.Correlator()\n",
    "correlator.set({\n",
    "    'output': 'bPk', 'multipole': 2, 'xdata': kd, 'z': zpk, 'kmax': 0.6,  'km': 0.7, 'knl': 0.7, 'optiresum': True, \"with_stoch\": True,\n",
    "    'with_redshift_bin': True, 'zz': zz,'nz': nz, \n",
    "    'with_AP': True, 'Omega_m_AP': 0.310, 'z_AP': 0.55\n",
    "})\n",
    "correlator.compute(cosmo, module='class')\n",
    "redpk = correlator.get(bdict)"
   ]
  },
  {
   "cell_type": "code",
   "execution_count": 595,
   "metadata": {},
   "outputs": [
    {
     "data": {
      "text/plain": [
       "<module 'pybird' from '/Users/pierre/Documents/github/pybird/pybird_dev/pybird.py'>"
      ]
     },
     "execution_count": 595,
     "metadata": {},
     "output_type": "execute_result"
    }
   ],
   "source": [
    "reload(pybird)"
   ]
  },
  {
   "cell_type": "code",
   "execution_count": 623,
   "metadata": {},
   "outputs": [],
   "source": [
    "zpk = 0.5"
   ]
  },
  {
   "cell_type": "code",
   "execution_count": 624,
   "metadata": {},
   "outputs": [],
   "source": [
    "correlator = pybird.Correlator()\n",
    "correlator.set({\n",
    "    'output': 'bPk', 'multipole': 2, 'xdata': kd, 'z': zpk, 'kmax': 0.6, 'km': 0.7, 'knl': 0.7, 'optiresum': True, \"with_stoch\": True, \n",
    "    'with_AP': True, 'Omega_m_AP': 0.310, 'z_AP': zpk\n",
    "        })\n",
    "correlator.compute(cosmo, module='class')\n",
    "eqpk = correlator.get(bdict)"
   ]
  },
  {
   "cell_type": "markdown",
   "metadata": {},
   "source": [
    "Summary plot"
   ]
  },
  {
   "cell_type": "code",
   "execution_count": 625,
   "metadata": {},
   "outputs": [
    {
     "data": {
      "text/plain": [
       "[<matplotlib.lines.Line2D at 0x18bca3a3c8>]"
      ]
     },
     "execution_count": 625,
     "metadata": {},
     "output_type": "execute_result"
    },
    {
     "data": {
      "image/png": "[encoded data removed]",
      "text/plain": [
       "<Figure size 432x288 with 1 Axes>"
      ]
     },
     "metadata": {
      "needs_background": "light"
     },
     "output_type": "display_data"
    }
   ],
   "source": [
    "plt.plot(kd, kd * eqpk[0])\n",
    "plt.plot(kd, kd * (redpk[0]-.85/4e-4))"
   ]
  },
  {
   "cell_type": "code",
   "execution_count": 626,
   "metadata": {},
   "outputs": [
    {
     "data": {
      "text/plain": [
       "<matplotlib.legend.Legend at 0x185e28e358>"
      ]
     },
     "execution_count": 626,
     "metadata": {},
     "output_type": "execute_result"
    },
    {
     "data": {
      "image/png": "[encoded data removed]",
      "text/plain": [
       "<Figure size 1152x360 with 2 Axes>"
      ]
     },
     "metadata": {
      "needs_background": "light"
     },
     "output_type": "display_data"
    }
   ],
   "source": [
    "f, ax = plt.subplots(1, 2, figsize=(16,5))\n",
    "f.subplots_adjust(wspace=.2)\n",
    "ax[0].plot(kd, 0*kd, 'white', linewidth=0.5)\n",
    "ax[0].plot(kd, (redpk[0]-.84/4e-4)/eqpk[0]-1, 'C1', lw=3, label=r'$\\langle P_\\ell^Y (k) \\rangle_{\\rm CMASS} \\, / \\, P_\\ell(k, z_{\\rm eff}) - 1$')\n",
    "ax[0].fill_between(kd, -eb[0], eb[0], facecolor='grey')\n",
    "ax[0].fill_between(kd, -eb[0]/4., eb[0]/4., facecolor='lightgrey')\n",
    "ax[0].set_ylim(-0.02, +0.02)\n",
    "ax[0].set_ylabel(r'$\\ell=0$')\n",
    "ax[0].set_xlim(0.01, 0.25)\n",
    "ax[0].set_xlabel(r'$k$ [$h$/Mpc]')\n",
    "\n",
    "ax[1].set_xlabel(r'$k$ [$h$/Mpc]')\n",
    "ax[1].plot(kd, 0*kd, 'white', linewidth=0.5)\n",
    "ax[1].plot(kd, redpk[1]/eqpk[1]-1, 'C1', lw=3)\n",
    "ax[1].plot(kd, np.ones_like(kd), 'white', label=' ')\n",
    "ax[1].fill_between(kd, -eb[1], eb[1], facecolor='grey', label=r'$\\pm \\, \\sigma_\\ell^{\\rm CMASS} \\, / \\, P_\\ell^{\\rm CMASS}$')\n",
    "ax[1].fill_between(kd[0:], -eb[1,0:]/4., eb[1,0:]/4., facecolor='lightgrey', label=r'$\\pm \\, 1/4 \\, \\sigma_\\ell^{\\rm CMASS} \\, / \\, P_\\ell^{\\rm CMASS}$')\n",
    "ax[1].set_ylim(-0.2, +0.2)\n",
    "ax[1].set_ylabel(r'$\\ell=2$')\n",
    "ax[1].set_xlim(0.01, 0.25)\n",
    "ax[1].set_xlabel(r'$k$ [$h$/Mpc]')\n",
    "\n",
    "f.legend(bbox_to_anchor=(0.845, 1.07), ncol=3, loc='upper right')\n",
    "\n",
    "# plt.savefig('/Users/pierre/Documents/github/montepython_public-3.3/time/paper_fig/2021/pk.pdf', bbox_inches='tight')"
   ]
  },
  {
   "cell_type": "code",
   "execution_count": null,
   "metadata": {},
   "outputs": [],
   "source": []
  }
 ],
 "metadata": {
  "kernelspec": {
   "display_name": "Python 3",
   "language": "python",
   "name": "python3"
  },
  "language_info": {
   "codemirror_mode": {
    "name": "ipython",
    "version": 3
   },
   "file_extension": ".py",
   "mimetype": "text/x-python",
   "name": "python",
   "nbconvert_exporter": "python",
   "pygments_lexer": "ipython3",
   "version": "3.7.3"
  }
 },
 "nbformat": 4,
 "nbformat_minor": 2
}
