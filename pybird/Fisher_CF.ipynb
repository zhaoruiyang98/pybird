{
 "cells": [
  {
   "cell_type": "code",
   "execution_count": 1,
   "metadata": {},
   "outputs": [],
   "source": [
    "# Import relevant modules\n",
    "import matplotlib\n",
    "import matplotlib.pyplot as plt\n",
    "import numpy as np\n",
    "# from numba import vectorize, float64, complex128, njit\n",
    "from classy import Class\n",
    "import os\n",
    "import copy\n",
    "import yaml\n",
    "from scipy.interpolate import InterpolatedUnivariateSpline, interp1d\n",
    "from scipy.integrate import quad\n",
    "from scipy.special import spherical_jn\n",
    "from time import time\n",
    "import pybird"
   ]
  },
  {
   "cell_type": "code",
   "execution_count": 2,
   "metadata": {},
   "outputs": [],
   "source": [
    "font = {'size': 16, 'family': 'STIXGeneral'}\n",
    "axislabelfontsize='large'\n",
    "matplotlib.rc('font', **font)\n",
    "matplotlib.mathtext.rcParams['legend.fontsize']='medium'\n",
    "plt.rcParams[\"figure.figsize\"] = [10.0,6.2]"
   ]
  },
  {
   "cell_type": "code",
   "execution_count": 3,
   "metadata": {},
   "outputs": [],
   "source": [
    "def corr_from_cov(cov):\n",
    "    cor = np.empty_like(cov)\n",
    "    for i in range(cov.shape[0]):\n",
    "        for j in range(cov.shape[1]):\n",
    "            cor[i,j] = cov[i,j]/np.sqrt(cov[i,i]*cov[j,j])\n",
    "    return cor"
   ]
  },
  {
   "cell_type": "code",
   "execution_count": 4,
   "metadata": {},
   "outputs": [],
   "source": [
    "class Lkl_bird(object):\n",
    "    \"\"\"Likelihood for the power spectrum and wedges.\"\"\"\n",
    "\n",
    "    def __init__(self, cosmovec, configdic):\n",
    "        # CHANGE DATA DIR\n",
    "        self.data_directory = os.path.join(os.path.expanduser('~'), 'Documents', 'github', 'montepython_public-3.3', 'data')\n",
    "        \n",
    "        # self.configfile = configfile\n",
    "        # self.config = yaml.full_load(open(self.configfile, 'r'))\n",
    "        self.config = configdic\n",
    "        \n",
    "        # Loading data and priors\n",
    "        options = [ \"with_exact_time\", \"with_tidal_alignments\", \"with_nnlo_counterterm\", \"with_nnlo_higher_derivative\", \n",
    "        \"get_chi2_from_marg\", \"with_derived_bias\", \"with_quintessence\", \"with_cf_sys\", \"xmaxspacing\"]\n",
    "\n",
    "        for keys in options:\n",
    "            if not keys in self.config: self.config[keys] = False\n",
    "            print (keys, ':', self.config[keys])\n",
    "        \n",
    "        self.x, self.xmask, self.ydata, self.chi2data, self.invcov, self.invcovdata, self.priormat = [], [], [], [], [], [], []\n",
    "        \n",
    "        if self.config[\"skycut\"] > 1: self.config[\"zz\"], self.config[\"nz\"] = [], []\n",
    "        \n",
    "        self.xmax = 0.\n",
    "        \n",
    "        for i in range(self.config[\"skycut\"]):\n",
    "\n",
    "            if self.config.get(\"xmax\") is None:\n",
    "                xmax0, xmax1 = self.config[\"xmax0\"][i], self.config[\"xmax1\"][i]\n",
    "                xmax = max(xmax0, xmax1)\n",
    "            else: xmax, xmax0, xmax1 = self.config[\"xmax\"][i], None, None\n",
    "\n",
    "            if self.xmax < xmax: self.xmax = xmax # to increase the kmax to provide to pybird\n",
    "\n",
    "            if self.config.get(\"xmin\") is None:\n",
    "                xmin0, xmin1 = self.config[\"xmin0\"][i], self.config[\"xmin1\"][i]\n",
    "                xmin = min(xmin0, xmin1)\n",
    "            else: xmin, xmin0, xmin1 = self.config[\"xmin\"][i], None, None\n",
    "\n",
    "            if self.config[\"with_bao\"]: baoH, baoD = self.config[\"baoH\"][i], self.config[\"baoD\"][i]\n",
    "            else: baoH, baoD = None, None\n",
    "\n",
    "            if \"Pk\" in self.config[\"output\"]:\n",
    "                xi, xmaski, ydatai, chi2datai, invcovi, invcovdatai = self.__load_data_ps(\n",
    "                    self.config[\"multipole\"], self.config[\"wedge\"],\n",
    "                    self.data_directory, self.config[\"spectrum_file\"][i], self.config[\"covmat_file\"][i],\n",
    "                    xmin=self.config[\"xmin\"][i], xmax=xmax, xmax0=xmax0, xmax1=xmax1, xmaxspacing=self.config[\"xmaxspacing\"], with_bao=self.config[\"with_bao\"], baoH=baoH, baoD=baoD)\n",
    "            else:\n",
    "                xi, xmaski, ydatai, chi2datai, invcovi, invcovdatai = self.__load_data_cf(\n",
    "                    self.config[\"multipole\"], self.config[\"wedge\"],\n",
    "                    self.data_directory, self.config[\"spectrum_file\"][i], self.config[\"covmat_file\"][i],\n",
    "                    xmax=self.config[\"xmax\"][i], xmin=xmin, xmin0=xmin0, xmin1=xmin1, with_bao=self.config[\"with_bao\"], baoH=baoH, baoD=baoD)\n",
    "\n",
    "            priormati = self.__set_prior(self.config[\"multipole\"], model=self.config[\"model\"])\n",
    "        \n",
    "            # self.Nx.append(Nxi)\n",
    "            self.x.append(xi)\n",
    "            self.xmask.append(xmaski)\n",
    "            self.ydata.append(ydatai)\n",
    "            self.chi2data.append(chi2datai)\n",
    "            self.invcov.append(invcovi)\n",
    "            self.invcovdata.append(invcovdatai)\n",
    "            self.priormat.append(priormati)\n",
    "            \n",
    "        # formatting configuration for pybird\n",
    "        self.config[\"xdata\"] = self.x\n",
    "        if self.config[\"with_window\"]:\n",
    "            if self.config[\"skycut\"] > 1:\n",
    "                self.config[\"windowPk\"] = [os.path.join(\n",
    "                    self.data_directory, self.config[\"windowPk\"][i]) for i in range(self.config[\"skycut\"])]\n",
    "                self.config[\"windowCf\"] = [os.path.join(\n",
    "                    self.data_directory, self.config[\"windowCf\"][i]) for i in range(self.config[\"skycut\"])]\n",
    "            else:\n",
    "                self.config[\"windowPk\"] = os.path.join(self.data_directory, self.config[\"windowPk\"][i])\n",
    "                self.config[\"windowCf\"] = os.path.join(self.data_directory, self.config[\"windowCf\"][i])\n",
    "        if \"Pk\" in self.config[\"output\"]:\n",
    "            self.config[\"kmax\"] = self.xmax + 0.05\n",
    "\n",
    "        print (\"output: %s\" % self.config[\"output\"])\n",
    "        print (\"multipole: %s\" % self.config[\"multipole\"])\n",
    "        print (\"wedge: %s\" % self.config[\"wedge\"])\n",
    "        print (\"skycut: %s\" % self.config[\"skycut\"])\n",
    "        \n",
    "\n",
    "        # BBN prior?\n",
    "        if self.config[\"with_bbn\"] and self.config[\"omega_b_BBNcenter\"] is not None and self.config[\"omega_b_BBNsigma\"] is not None:\n",
    "            print ('BBN prior on omega_b: on')\n",
    "        else:\n",
    "            self.config[\"with_bbn\"] = False\n",
    "            print ('BBN prior on omega_b: none')\n",
    "\n",
    "        # setting pybird correlator configuration\n",
    "        self.correlator = pybird.Correlator()\n",
    "        self.correlator.set(self.config)\n",
    "\n",
    "        # setting classy for pybird\n",
    "        # self.need_cosmo_arguments(data, {'output': 'mPk', 'z_max_pk': max(self.config[\"z\"]), 'P_k_max_h/Mpc': 1.})\n",
    "        # CLASSy settings\n",
    "        self.zmax = max(self.config[\"z\"])\n",
    "        self.P_k_max_h = 1.\n",
    "        self.kin = np.logspace(-5, 0, 200)\n",
    "        \n",
    "        # Load cosmology and compute here in init\n",
    "        cosmo = self.__set_cosmo(cosmovec)\n",
    "        self.kclass = cosmo['k11']\n",
    "        self.Pclass = cosmo['P11']\n",
    "        # self.f = cosmo['f']\n",
    "        self.correlator.compute(cosmo)\n",
    "\n",
    "    # THIS WORKS ONLY FOR 1 SKYCUT!\n",
    "    def get_correlator(self, bng, bg, masked=True):\n",
    "        blist = self.bias_nonmarg_to_all(bng, bg)  # Checked, this sets the same non-Gaussian biases\n",
    "        bdict = self.bias_array_to_dict(blist)\n",
    "        modelX = self.correlator.get(bdict).reshape(-1)   \n",
    "        if masked:\n",
    "            return modelX[self.xmask[0]]\n",
    "        else:\n",
    "            return modelX\n",
    "    \n",
    "    def get_bg(self, cosmovec, bng, cosmo=None, data=None):\n",
    "        self.correlator.compute(self.__set_cosmo(cosmovec))\n",
    "        bdict = np.array([self.bias_array_to_dict(self.bias_custom_to_all(bs)) for bs in bng])\n",
    "        correlator = self.correlator.get(bdict)\n",
    "        marg_correlator = self.correlator.getmarg(bdict, model=self.config[\"model\"]) \n",
    "        _, bg = self.__get_chi2(correlator, cosmo, data, marg=True, marg_correlator=marg_correlator, i=0) \n",
    "        nonmarg_bdict = np.array([self.bias_array_to_dict(self.bias_nonmarg_to_all(bs, bgi)) for (bs, bgi) in zip(bng, [bg]) ])\n",
    "        nonmarg_correlator = self.correlator.get(nonmarg_bdict)\n",
    "        chi2, _ = self.__get_chi2(nonmarg_correlator, cosmo, data, marg=False, i=0)\n",
    "        print ('chi2: %.2f' % chi2)\n",
    "        return bg\n",
    "        \n",
    "    def bias_array_to_dict(self, bs):\n",
    "        if self.config[\"with_stoch\"]:\n",
    "            if self.config[\"multipole\"] == 2: bdict = {\"b1\": bs[0], \"b2\": bs[1], \"b3\": bs[2], \"b4\": bs[3], \"cct\": bs[4], \"cr1\": bs[5], \"ce0\": bs[6], \"ce1\": bs[7], \"ce2\": bs[8]}\n",
    "            elif self.config[\"multipole\"] == 3: bdict = {\"b1\": bs[0], \"b2\": bs[1], \"b3\": bs[2], \"b4\": bs[3], \"cct\": bs[4], \"cr1\": bs[5], \"cr2\": bs[6], \"ce0\": bs[7], \"ce1\": bs[8], \"ce2\": bs[9]}\n",
    "        else:\n",
    "            if self.config[\"multipole\"] == 0: bdict = {\"cct\": bs[0]}\n",
    "            if self.config[\"multipole\"] == 2: bdict = {\"b1\": bs[0], \"b2\": bs[1], \"b3\": bs[2], \"b4\": bs[3], \"cct\": bs[4], \"cr1\": bs[5]}\n",
    "            elif self.config[\"multipole\"] == 3: bdict = {\"b1\": bs[0], \"b2\": bs[1], \"b3\": bs[2], \"b4\": bs[3], \"cct\": bs[4], \"cr1\": bs[5], \"cr2\": bs[6]}\n",
    "        \n",
    "        options = [\"with_nnlo_counterterm\", \"with_nnlo_higher_derivative\", \"with_tidal_alignments\"]#, \"with_cf_sys\"]\n",
    "        nparams = [self.config[\"multipole\"], self.config[\"multipole\"], 1]#, 3]\n",
    "        paramnames = [  [\"cnnlo_l%s\" % (2*i) for i in range(self.config[\"multipole\"])], \n",
    "                        [\"bnnlo_l%s\" % (2*i) for i in range(self.config[\"multipole\"])], \n",
    "                        [\"bq\"],\n",
    "                        #[\"a0\", \"a1\", \"a2\"]\n",
    "                    ]\n",
    "        ntot = sum([n for (option, n) in zip(options, nparams) if self.config[option]])\n",
    "        bias_for_options = bs[-ntot:] \n",
    "        counter = 0\n",
    "        for (option, n, names) in zip(options, nparams, paramnames):\n",
    "            if self.config[option]: \n",
    "                for i, name in enumerate(names): \n",
    "                    bdict[name] = bias_for_options[counter+i]\n",
    "                counter += n\n",
    "        # print (bdict)\n",
    "\n",
    "        return bdict\n",
    "\n",
    "    def bias_custom_to_all(self, bs):\n",
    "        if self.config[\"multipole\"] == 0: biaslist = 10*[0]\n",
    "        else: biaslist = [bs[0], bs[1] / np.sqrt(2.), 0., bs[1] / np.sqrt(2.), 0., 0., 0., 0., 0., 0.]\n",
    "        biaslist.extend(bs[2:])\n",
    "        return biaslist\n",
    "\n",
    "    # Reconstruct the bestfit starting from nongaussian and gaussian biases. Now we have the gaussian biases in the order of Pi marg., so let's be careful\n",
    "    def bias_nonmarg_to_all(self, bs, bg):\n",
    "        biaslist = []\n",
    "        if self.config[\"with_stoch\"]:\n",
    "            if self.config[\"multipole\"] == 2:\n",
    "                if self.config[\"model\"] == 1: biaslist = [bs[0], bs[1] / np.sqrt(2.), bg[0], bs[1] / np.sqrt(2.), bg[1], bg[2], 0., bg[4], 0., bg[3]]\n",
    "                if self.config[\"model\"] == 2: biaslist = [bs[0], bs[1] / np.sqrt(2.), bg[0], bs[1] / np.sqrt(2.), bg[1], bg[2], 0., 0., 0., bg[3]]\n",
    "                if self.config[\"model\"] == 3: biaslist = [bs[0], bs[1] / np.sqrt(2.), bg[0], bs[1] / np.sqrt(2.), bg[1], bg[2], 0., 0., bg[4], bg[3]]\n",
    "                if self.config[\"model\"] == 4: biaslist = [bs[0], bs[1] / np.sqrt(2.), bg[0], bs[1] / np.sqrt(2.), bg[1], bg[2], 0., bg[5], bg[4], bg[3]]\n",
    "            elif self.config[\"multipole\"] == 3:\n",
    "                if self.config[\"model\"] == 1: biaslist = [bs[0], bs[1] / np.sqrt(2.), bg[0], bs[1] / np.sqrt(2.), bg[1], bg[2], bg[3], bg[5], 0., bg[4]]\n",
    "                if self.config[\"model\"] == 2: biaslist = [bs[0], bs[1] / np.sqrt(2.), bg[0], bs[1] / np.sqrt(2.), bg[1], bg[2], bg[3], 0., 0., bg[4]]\n",
    "                if self.config[\"model\"] == 3: biaslist = [bs[0], bs[1] / np.sqrt(2.), bg[0], bs[1] / np.sqrt(2.), bg[1], bg[2], bg[3], 0., bg[5], bg[4]]\n",
    "                if self.config[\"model\"] == 4: biaslist = [bs[0], bs[1] / np.sqrt(2.), bg[0], bs[1] / np.sqrt(2.), bg[1], bg[2], bg[3], bg[6], bg[5], bg[4]]\n",
    "        else:\n",
    "            if self.config[\"multipole\"] == 2: biaslist = [bs[0], bs[1] / np.sqrt(2.), bg[0], bs[1] / np.sqrt(2.), bg[1], bg[2], 0., 0., 0., 0.]\n",
    "            elif self.config[\"multipole\"] == 3: biaslist = [bs[0], bs[1] / np.sqrt(2.), bg[0], bs[1] / np.sqrt(2.), bg[1], bg[2], bg[3], 0., 0., 0.]\n",
    "        biaslist.extend(bs[2:])\n",
    "        return biaslist\n",
    "\n",
    "    \n",
    "    def loglkl(self, cosmovec, bng, cosmo=None, data=None):\n",
    "        \n",
    "        self.correlator.compute(self.__set_cosmo(cosmovec))\n",
    "        bdict = np.array([self.bias_array_to_dict(self.bias_custom_to_all(bs)) for bs in bng])\n",
    "        \n",
    "        neat_indent = True\n",
    "        if neat_indent:\n",
    "            chi2 = 0.\n",
    "            correlator = self.correlator.get(bdict)\n",
    "            marg_correlator = self.correlator.getmarg(bdict, model=self.config[\"model\"])\n",
    "            for i in range(self.config[\"skycut\"]):\n",
    "                if self.config[\"skycut\"] is 1: modelX = correlator\n",
    "                elif self.config[\"skycut\"] > 1: modelX = correlator[i]\n",
    "                if self.config[\"with_cf_sys\"]: modelX[0] += bng[i,-1] + bng[i,-2] * self.x[i]**-1 + bng[i,-3] * self.x[i]**-2\n",
    "                chi2_i, bg_i = self.__get_chi2(modelX, cosmo, data, marg=True, marg_correlator=marg_correlator, i=i)\n",
    "                chi2 += chi2_i\n",
    "                if self.config[\"with_nnlo_higher_derivative\"] or self.config[\"get_chi2_from_marg\"]: bg.append(bg_i)\n",
    "        \n",
    "        if self.config[\"get_chi2_from_marg\"]: \n",
    "            chi2 = 0.\n",
    "            nonmarg_bdict = np.array([self.bias_array_to_dict(self.bias_nonmarg_to_all(bs, bgi)) for (bs, bgi) in zip(bng, bg) ])\n",
    "            nonmarg_correlator = self.correlator.get(nonmarg_bdict)\n",
    "            for i in range(self.config[\"skycut\"]):\n",
    "                if self.config[\"skycut\"] is 1: modelX = nonmarg_correlator\n",
    "                elif self.config[\"skycut\"] > 1: modelX = nonmarg_correlator[i]\n",
    "                chi2_i, _ = self.__get_chi2(modelX, cosmo, data, marg=False, i=i)\n",
    "                chi2 += chi2_i\n",
    "\n",
    "        if self.config[\"with_nnlo_higher_derivative\"]: \n",
    "            chi2 = 0.\n",
    "            nonmarg_bdict = np.array([self.bias_array_to_dict(self.bias_nonmarg_to_all(bs, bgi)) for (bs, bgi) in zip(bng, bg) ])\n",
    "            nnlo = self.correlator.getnnlo(nonmarg_bdict)\n",
    "            for i in range(self.config[\"skycut\"]):\n",
    "                if self.config[\"skycut\"] is 1: modelX = correlator + nnlo\n",
    "                elif self.config[\"skycut\"] > 1: modelX = correlator[i] + nnlo[i]\n",
    "                chi2_i, _ = self.__get_chi2(modelX, cosmo, data, marg=True, marg_correlator=marg_correlator, i=i)\n",
    "                chi2 += chi2_i\n",
    "\n",
    "        prior = 0.\n",
    "        if self.config[\"with_bbn\"]: prior += -0.5 * ((data.cosmo_arguments['omega_b'] - self.config[\"omega_b_BBNcenter\"]) / self.config[\"omega_b_BBNsigma\"])**2\n",
    "        # if self.config[\"model\"] == 3 or self.config[\"model\"] == 4: prior += - 0.5 * (bng[0,2]/2.)**2\n",
    "        if self.config[\"with_cf_sys\"]: \n",
    "            for i in range(self.config[\"skycut\"]): prior += - 0.5 * ( (bs[i,-1]/0.003)**2 + (bs[i,-2]/3.)**2 + (bs[i,-3]/20.)**2 )\n",
    "        if self.config[\"with_nnlo_counterterm\"]: \n",
    "            for i in range(self.config[\"skycut\"]): \n",
    "                cnnlo = np.array([ bdict[i][\"cnnlo_l%s\" % (2*l)] for l in range(self.config[\"multipole\"]) ])\n",
    "                sigma = np.array([ 6., 30., 150. ])[:self.config[\"multipole\"]]\n",
    "                prior += - 0.5 * np.sum( (cnnlo/sigma)**2 )\n",
    "        if self.config[\"with_nnlo_higher_derivative\"]: \n",
    "            for i in range(self.config[\"skycut\"]): \n",
    "                bnnlo = np.array([ bdict[i][\"bnnlo_l%s\" % (2*l)] for l in range(self.config[\"multipole\"]) ])\n",
    "                sigma = np.array([ 2., 10., 50. ])[:self.config[\"multipole\"]]\n",
    "                prior += - 0.5 * np.sum( (bnnlo/sigma)**2 )\n",
    "        if self.config[\"with_tidal_alignments\"]:\n",
    "            for i in range(self.config[\"skycut\"]): prior += - 0.5 * ( (bdict[i][\"bq\"]+0.05)/0.05 )**2\n",
    "        \n",
    "        lkl = - 0.5 * chi2 + prior\n",
    "        return lkl\n",
    "    \n",
    "    def __get_chi2(self, modelX, cosmo, data, marg=True, marg_correlator=None, i=0):\n",
    "        modelX = modelX.reshape(-1)\n",
    "\n",
    "        if self.config[\"with_bao\"] and self.config[\"baoH\"][i] > 0 and self.config[\"baoD\"][i] > 0:  # BAO\n",
    "            DM_at_z = cosmo.angular_distance(self.config[\"zbao\"][i]) * (1. + self.config[\"zbao\"][i])\n",
    "            H_at_z = cosmo.Hubble(self.config[\"zbao\"][i]) * conts.c / 1000.0\n",
    "            rd = cosmo.rs_drag() * self.config[\"rs_rescale\"][i]\n",
    "            theo_DM_rdfid_by_rd_in_Mpc = DM_at_z / rd * self.config[\"rd_fid_in_Mpc\"][i]\n",
    "            theo_H_rd_by_rdfid = H_at_z * rd / self.config[\"rd_fid_in_Mpc\"][i]\n",
    "            modelX = np.concatenate((modelX, [theo_H_rd_by_rdfid, theo_DM_rdfid_by_rd_in_Mpc]))\n",
    "\n",
    "        modelX = modelX[self.xmask[i]]\n",
    "\n",
    "        if marg:\n",
    "            if self.config[\"skycut\"] is 1: Pi = self.__get_Pi_for_marg(marg_correlator, self.xmask[i])\n",
    "            elif self.config[\"skycut\"] > 1: Pi = self.__get_Pi_for_marg(marg_correlator[i], self.xmask[i])\n",
    "            chi2, bg = self.__get_chi2_marg(modelX, Pi, self.invcov[i], self.invcovdata[i], self.chi2data[i], self.priormat[i], data, isky=i)\n",
    "        else: \n",
    "            chi2 = self.__get_chi2_non_marg(modelX, self.invcov[i], self.ydata[i])\n",
    "            bg = None\n",
    "\n",
    "        return chi2, bg # chi^2, b_gaussian \n",
    "    \n",
    "    def __get_chi2_non_marg(self, modelX, invcov, ydata):\n",
    "        chi2 = np.dot(modelX-ydata, np.dot(invcov, modelX-ydata))\n",
    "        return chi2\n",
    "\n",
    "    def __get_chi2_marg(self, modelX, Pi, invcov, invcovdata, chi2data, priormat, data, isky=0):\n",
    "        Covbi = np.dot(Pi, np.dot(invcov, Pi.T)) + priormat\n",
    "        Cinvbi = np.linalg.inv(Covbi)\n",
    "        vectorbi = np.dot(modelX, np.dot(invcov, Pi.T)) - np.dot(invcovdata, Pi.T)\n",
    "        chi2nomar = np.dot(modelX, np.dot(invcov, modelX)) - 2. * np.dot(invcovdata, modelX) + chi2data\n",
    "        chi2mar = - np.dot(vectorbi, np.dot(Cinvbi, vectorbi)) + np.log(np.abs(np.linalg.det(Covbi)))\n",
    "        chi2tot = chi2mar + chi2nomar - priormat.shape[0] * np.log(2. * np.pi)\n",
    "\n",
    "        if self.config[\"with_derived_bias\"] or self.config[\"with_nnlo_higher_derivative\"] or self.config[\"get_chi2_from_marg\"]: \n",
    "            bg = - np.dot(Cinvbi, vectorbi)\n",
    "            if self.config[\"with_derived_bias\"]:\n",
    "                Ng = len(bg)\n",
    "                for i, elem in enumerate(data.get_mcmc_parameters(['derived_lkl'])):\n",
    "                    if i >= isky * Ng and i < (isky + 1) * Ng:\n",
    "                        data.derived_lkl[elem] = bg[i - isky * Ng]\n",
    "\n",
    "        if self.config[\"with_nnlo_higher_derivative\"] or self.config[\"get_chi2_from_marg\"]: return chi2tot, bg\n",
    "        else: return chi2tot, None\n",
    "\n",
    "    def __get_Pi_for_marg(self, marg_correlator, xmask):\n",
    "        Pi = marg_correlator\n",
    "        if self.config[\"with_bao\"]:  # BAO\n",
    "            newPi = np.zeros(shape=(Pi.shape[0], Pi.shape[1] + 2))\n",
    "            newPi[:Pi.shape[0], :Pi.shape[1]] = Pi\n",
    "            Pi = 1. * newPi\n",
    "        Pi = Pi[:, xmask]\n",
    "        return Pi\n",
    "    \n",
    "    def __set_cosmo(self, cosmovec):\n",
    "        zfid = self.config[\"z\"][0]\n",
    "        omega_b, omega_cdm, h, lnAs, ns = cosmovec\n",
    "        cosmo = {'ln10^{10}A_s': lnAs, 'n_s': ns, 'h': h, 'omega_b': omega_b, 'omega_cdm': omega_cdm}\n",
    "                  #'N_ur': 2.0328, 'N_ncdm': 1, 'm_ncdm': 0.06} no neutrinos for the moment\n",
    "        \n",
    "        M = Class()\n",
    "        M.set({'output': 'mPk', 'z_max_pk': self.zmax, 'P_k_max_h/Mpc': 1.})\n",
    "        M.set(cosmo)\n",
    "        M.compute()\n",
    "        \n",
    "        cosmo[\"k11\"] = self.kin  # k in h/Mpc\n",
    "        cosmo[\"P11\"] = np.array([M.pk(k * M.h(), zfid) * M.h()**3 for k in self.kin])  # P(k) in (Mpc/h)**3\n",
    "\n",
    "        if self.config[\"skycut\"] == 1:\n",
    "            # if self.config[\"multipole\"] is not 0:\n",
    "            cosmo[\"f\"] = M.scale_independent_growth_factor_f(zfid)\n",
    "            if self.config[\"with_exact_time\"] or self.config[\"with_quintessence\"]:\n",
    "                cosmo[\"z\"] = self.config[\"z\"][0]\n",
    "                cosmo[\"Omega0_m\"] = M.Omega0_m()\n",
    "                try: cosmo[\"w0_fld\"] = data.cosmo_arguments['w0_fld']\n",
    "                except: pass\n",
    "\n",
    "            if self.config[\"with_AP\"]:\n",
    "                cosmo[\"DA\"] = M.angular_distance(zfid) * M.Hubble(0.)\n",
    "                cosmo[\"H\"] = M.Hubble(zfid) / M.Hubble(0.)\n",
    "\n",
    "        elif self.config[\"skycut\"] > 1:\n",
    "            # if self.config[\"multipole\"] is not 0:\n",
    "            cosmo[\"f\"] = np.array([M.scale_independent_growth_factor_f(z) for z in self.config[\"z\"]])\n",
    "            cosmo[\"D\"] = np.array([M.scale_independent_growth_factor(z) for z in self.config[\"z\"]])\n",
    "\n",
    "            if self.config[\"with_AP\"]:\n",
    "                cosmo[\"DA\"] = np.array([M.angular_distance(z) * M.Hubble(0.) for z in self.config[\"z\"]])\n",
    "                cosmo[\"H\"] = np.array([M.Hubble(z) / M.Hubble(0.) for z in self.config[\"z\"]])\n",
    "\n",
    "        if self.config[\"with_redshift_bin\"]:\n",
    "            def comoving_distance(z): return M.angular_distance(z) * (1+z) * M.h()\n",
    "            if self.config[\"skycut\"] == 1:\n",
    "                cosmo[\"D\"] = M.scale_independent_growth_factor(self.config[\"z\"][0])\n",
    "                cosmo[\"Dz\"] = np.array([M.scale_independent_growth_factor(z) for z in self.config[\"zz\"]])\n",
    "                cosmo[\"fz\"] = np.array([M.scale_independent_growth_factor_f(z) for z in self.config[\"zz\"]])\n",
    "                cosmo[\"rz\"] = np.array([comoving_distance(z) for z in self.config[\"zz\"]])\n",
    "\n",
    "            elif self.config[\"skycut\"] > 1:\n",
    "                cosmo[\"Dz\"] = np.array([ [M.scale_independent_growth_factor(z) for z in zz] for zz in self.config[\"zz\"] ])\n",
    "                cosmo[\"fz\"] = np.array([ [M.scale_independent_growth_factor_f(z) for z in zz] for zz in self.config[\"zz\"] ])\n",
    "                cosmo[\"rz\"] = np.array([ [comoving_distance(z) for z in zz] for zz in self.config[\"zz\"] ])\n",
    "        return cosmo\n",
    "\n",
    "\n",
    "    def __load_data_ps(self, multipole, wedge, data_directory, spectrum_file, covmat_file, xmin, xmax=None, xmax0=None, xmax1=None, xmaxspacing='default', with_bao=False, baoH=None, baoD=None):\n",
    "\n",
    "        # cov = None\n",
    "        # try:\n",
    "        xdata, ydata = self.__load_spectrum(data_directory, spectrum_file)  # read values of k (in h/Mpc)\n",
    "        # except: xdata, ydata, cov = self.__load_gaussian_spectrum(data_directory, spectrum_file) # with gaussian case: column 1: k[h/Mpc]  column 2-N+2: signal  column N+3-2N+2: error\n",
    "        cov = np.loadtxt(os.path.join(data_directory, covmat_file))\n",
    "        \n",
    "        if wedge is not 0:\n",
    "            x = xdata.reshape(wedge, -1)[0]\n",
    "            Nx = len(x)\n",
    "\n",
    "            if xmax0 is not None and xmax1 is not None:\n",
    "                xmax = max(xmax0, xmax1)\n",
    "            elif xmax is not None:\n",
    "                xmax0 = xmax\n",
    "                xmax1 = xmax\n",
    "\n",
    "            xmask0 = np.argwhere((x <= xmax0) & (x >= xmin))[:, 0]\n",
    "            xmask = xmask0\n",
    "\n",
    "            if 'linear' in xmaxspacing:\n",
    "                dxmax = (xmax1 - xmax0) / (wedge - 1.)\n",
    "                for i in range(wedge - 1):\n",
    "                    xmaski = np.argwhere((x <= xmax0 + (i + 1) * dxmax) & (x >= xmin))[:, 0] + (i + 1) * Nx\n",
    "                    xmask = np.concatenate((xmask, xmaski))\n",
    "            elif 'formula0' in xmaxspacing:\n",
    "                def get_xmax(k0, k1, N=wedge):\n",
    "                    a = ((k0 - k1) * (-1 + 2 * N)**2) / (16. * (-1 + N) * N**3)\n",
    "                    b = -(k0 - k1 + 4 * k1 * N - 4 * k1 * N**2) / (4. * (-1 + N) * N)\n",
    "                    mu = (np.arange(0, N, 1) + 0.5) / N\n",
    "                    return a / mu**2 + b\n",
    "                xmaxs = get_xmax(xmax0, xmax1)\n",
    "                for i, xmaxi in enumerate(xmaxs[1:]):\n",
    "                    xmaski = np.argwhere((x <= xmaxi) & (x >= xmin))[:, 0] + (i + 1) * Nx\n",
    "                    xmask = np.concatenate((xmask, xmaski))\n",
    "            elif 'newf5' in xmaxspacing:\n",
    "                def get_xmax(k0, k1, N=wedge):\n",
    "                    ratioknl2 = 8.\n",
    "                    kmaxB = k0 * (1. + (31./405. + 17. / 2079.) * ratioknl2**2)**(-0.25)\n",
    "                    kmaxC = k0 * 1.4**0.25 * (1. + (211./405. + 857. / 2079.) * ratioknl2**2)**(-0.25)\n",
    "                    return np.array([k0, kmaxB, kmaxC])\n",
    "                xmaxs = get_xmax(xmax0, xmax1)\n",
    "                for i, xmaxi in enumerate(xmaxs[1:]):\n",
    "                    xmaski = np.argwhere((x <= xmaxi) & (x >= xmin))[:, 0] + (i + 1) * Nx\n",
    "                    xmask = np.concatenate((xmask, xmaski))\n",
    "                with np.printoptions(precision=2, suppress=True): print ('kmax: ', xmaxs)\n",
    "            elif 'optimal' in xmaxspacing: # optimal\n",
    "                cov_resh = cov.reshape((3, cov.shape[0] // 3, 3, cov.shape[1] // 3))\n",
    "                # b2, b3, c2, c3 = np.array([0.597,  4.279, -1.73, 5.667]) \n",
    "                # b2, b3, c2, c3 = np.array([-1./9., -85./324., 5./9., 5./324.]) # w2/3, w3/3\n",
    "                b2, b3, c2, c3 = np.array([-3/8., 15/128., 3/8., -15./128.]) # w1/2, w2/2\n",
    "                b1 = 1. #- b2 - b3\n",
    "                c1 = 1. #- c2 - c3\n",
    "                mat = np.array([[1., -3./7., 11./56.], [b1, b2, b3], [c1, c2, c3]])\n",
    "                ydata = np.einsum('al,lk->ak', mat, ydata.reshape(3,-1)).reshape(-1) # rotate the data to optimal basis for minimal theoretical error\n",
    "                cov = np.einsum('al,bm,lkmj->akbj', mat, mat, cov_resh).reshape(cov.shape) # rotate the covariance to optimal basis for minimal theoretical error\n",
    "                err = np.sqrt(np.diag(cov)).reshape(3, -1)\n",
    "                masksigma = np.argwhere((x <= 0.18) & (x >= 0.12))[:, 0]\n",
    "                ratiosigmaB = np.mean(err[1, masksigma]) / np.mean(err[0, masksigma])\n",
    "                ratiosigmaC = np.mean(err[2, masksigma]) / np.mean(err[0, masksigma])\n",
    "                ratioknl2 = 8.\n",
    "                D0 = 1. + (1/5.  + 1/7.  ) * ratioknl2**2\n",
    "                D2 = 0. + (4/7.  + 10/21.) * ratioknl2**2\n",
    "                D4 = 0. + (8/35. + 24/77.) * ratioknl2**2\n",
    "                kmaxA = xmax\n",
    "                kmaxB = kmaxA * ratiosigmaB**0.25 * (b1*D0 + b2*D2 + b3*D4)**(-0.25)\n",
    "                kmaxC = kmaxA * ratiosigmaC**0.25 * (c1*D0 + c2*D2 + c3*D4)**(-0.25)\n",
    "                # kmaxB = kmaxA * ratiosigmaB**0.25 * ( ((b1*D0)**2 + (b2*D2)**2 + (b3*D4)**2)**0.5 )**(-0.25)\n",
    "                # kmaxC = kmaxA * ratiosigmaC**0.25 * ( ((c1*D0)**2 + (c2*D2)**2 + (c3*D4)**2)**0.5 )**(-0.25)\n",
    "                with np.printoptions(precision=2, suppress=True): \n",
    "                    print ('kmax: ', np.array([kmaxA, kmaxB, kmaxC]))\n",
    "                    print ('errB/errA, errC/errA', np.array([ratiosigmaB, ratiosigmaC]))\n",
    "                def getmask(kmax, i): return np.argwhere((x <= kmax) & (x >= xmin))[:, 0] + i * Nx\n",
    "                kmask = []\n",
    "                for i, kmax in enumerate([kmaxA, kmaxB, kmaxC]): kmask.append(getmask(kmax, i))\n",
    "                xmask = np.concatenate((kmask))\n",
    "\n",
    "        elif multipole != 0:\n",
    "            x = xdata.reshape(3, -1)[0]\n",
    "            Nx = len(x)\n",
    "            xmask0 = np.argwhere((x <= xmax) & (x >= xmin))[:, 0]\n",
    "            xmask = xmask0\n",
    "            for i in range(multipole - 1):\n",
    "                xmaski = np.argwhere((x <= xmax) & (x >= xmin))[:, 0] + (i + 1) * Nx\n",
    "                xmask = np.concatenate((xmask, xmaski))\n",
    "\n",
    "        elif multipole == 0:\n",
    "            x = xdata\n",
    "            xmask = np.argwhere((x <= xmax) & (x >= xmin))[:, 0]\n",
    "            xmask0 = xmask\n",
    "\n",
    "        xdata = x[xmask0]\n",
    "        ydata = ydata[xmask]\n",
    "\n",
    "        # BAO\n",
    "        if with_bao and baoH > 0 and baoD > 0:\n",
    "            ydata = np.concatenate((ydata, [baoH, baoD]))\n",
    "            xmask = np.concatenate((xmask, [-2, -1]))\n",
    "            print (\"BAO recon: on\")\n",
    "        else:\n",
    "            print (\"BAO recon: none\")\n",
    "\n",
    "        covred = cov[xmask.reshape((len(xmask), 1)), xmask]\n",
    "        invcov = np.linalg.inv(covred)\n",
    "\n",
    "        chi2data = np.dot(ydata, np.dot(invcov, ydata))\n",
    "        invcovdata = np.dot(ydata, invcov)\n",
    "\n",
    "        return x, xmask, ydata, chi2data, invcov, invcovdata\n",
    "\n",
    "    def __load_spectrum(self, data_directory, spectrum_file):\n",
    "        fname = os.path.join(data_directory, spectrum_file)\n",
    "        try:\n",
    "            kPS, PSdata, _ = np.loadtxt(fname, unpack=True)\n",
    "        except:\n",
    "            try:\n",
    "                kPS, PSdata = np.loadtxt(fname, unpack=True)\n",
    "            except:\n",
    "                kPS, l0, l2, l4 = np.loadtxt(fname, unpack=True)\n",
    "                kPS = np.concatenate([kPS, kPS, kPS])\n",
    "                PSdata = np.concatenate([l0, l2, l4])\n",
    "        return kPS, PSdata\n",
    "\n",
    "    def __set_prior(self, multipole, model=5):\n",
    "\n",
    "        if model == 0:\n",
    "            priors = np.array([2., 2.])\n",
    "            b3, cct = priors\n",
    "            print ('EFT priors: b3: %s, cct: %s (default)' % (b3, cct))\n",
    "\n",
    "        if multipole == 0:\n",
    "            priors = np.array([2.])\n",
    "            print ('EFT priors: cct: %s' % (priors))\n",
    "\n",
    "        if multipole == 2:\n",
    "            if model == 1:\n",
    "                priors = np.array([2., 2., 8., 2., 2.])\n",
    "                b3, cct, cr1, ce2, sn = priors\n",
    "                print ('EFT priors: b3: %s, cct: %s, cr1(+cr2): %s, ce2: %s, shotnoise: %s (default)' %\n",
    "                       (b3, cct, cr1, ce2, sn))\n",
    "            elif model == 2:\n",
    "                priors = np.array([2., 2., 8., 2.])\n",
    "                b3, cct, cr1, ce2 = priors\n",
    "                print ('EFT priors: b3: %s, cct: %s, cr1(+cr2): %s, ce2: %s (default)' % (b3, cct, cr1, ce2))\n",
    "            elif model == 3:\n",
    "                priors = np.array([ 10., 4., 8., 4., 2. ]) # np.array([2., 2., 8., 2., 2.]) \n",
    "                b3, cct, cr1, ce2, ce1 = priors\n",
    "                print ('EFT priors: b3: %s, cct: %s, cr1(+cr2): %s, ce2: %s, ce1: %s (default)' % (b3, cct, cr1, ce2, ce1))\n",
    "            elif model == 4:\n",
    "                priors = np.array([ 10., 4., 8., 4., 2., 2. ]) # np.array([2., 2., 8., 2., 2., 2.])\n",
    "                b3, cct, cr1, ce2, ce1, sn = priors\n",
    "                print ('EFT priors: b3: %s, cct: %s, cr1(+cr2): %s, ce2: %s, ce1: %s, shotnoise: %s (default)' %\n",
    "                       (b3, cct, cr1, ce2, ce1, sn))\n",
    "            elif model == 5:\n",
    "                priors = np.array([2., 2., 8.])\n",
    "                b3, cct, cr1 = priors\n",
    "                print ('EFT priors: b3: %s, cct: %s, cr1(+cr2): %s (default)' % (b3, cct, cr1))\n",
    "\n",
    "        if multipole == 3:\n",
    "            if model == 1:\n",
    "                priors = np.array([2., 2., 4., 4., 2., 2.])\n",
    "                b3, cct, cr1, cr2, ce2, sn = priors\n",
    "                print ('EFT priors: b3: %s, cct: %s, cr1: %s, cr2: %s, ce2: %s, shotnoise: %s (default)' %\n",
    "                       (b3, cct, cr1, cr2, ce2, sn))\n",
    "            elif model == 2:\n",
    "                priors = np.array([2., 2., 4., 4., 2.])\n",
    "                b3, cct, cr1, cr2, ce2 = priors\n",
    "                print ('EFT priors: b3: %s, cct: %s, cr1: %s, cr2: %s, ce2: %s (default)' % (b3, cct, cr1, cr2, ce2))\n",
    "            elif model == 3:\n",
    "                priors = np.array([2., 2., 4., 4., 2., 2.]) # np.array([ 10., 4., 8., 4., 2. ])\n",
    "                b3, cct, cr1, cr2, ce2, ce1 = priors\n",
    "                print ('EFT priors: b3: %s, cct: %s, cr1: %s, cr2: %s, ce2: %s, ce1: %s (default)' %\n",
    "                       (b3, cct, cr1, cr2, ce2, ce1))\n",
    "            elif model == 4:\n",
    "                priors = np.array([2., 2., 4., 4., 2., 2., 2.])\n",
    "                b3, cct, cr1, cr2, ce2, ce1, sn = priors\n",
    "                print ('EFT priors: b3: %s, cct: %s, cr1: %s, cr2: %s, ce2: %s, ce1: %s, shotnoise: %s (default)' %\n",
    "                       (b3, cct, cr1, cr2, ce2, ce1, sn))\n",
    "            elif model == 5:\n",
    "                priors = np.array([2., 2., 4., 4.])\n",
    "                b3, cct, cr1, cr2 = priors\n",
    "                print ('EFT priors: b3: %s, cct: %s, cr1: %s, cr2: %s (default)' % (b3, cct, cr1, cr2))\n",
    "\n",
    "        priormat = np.diagflat(1. / priors**2)\n",
    "\n",
    "        return priormat"
   ]
  },
  {
   "cell_type": "markdown",
   "metadata": {},
   "source": [
    "Best fit "
   ]
  },
  {
   "cell_type": "code",
   "execution_count": 16,
   "metadata": {},
   "outputs": [
    {
     "ename": "FileNotFoundError",
     "evalue": "[Errno 2] No such file or directory: '/Users/pierre/Documents/github/montepython_public-3.3/cf/2021/06/boss_cf_20/boss_cf_20.bestfit'",
     "output_type": "error",
     "traceback": [
      "\u001b[0;31m---------------------------------------------------------------------------\u001b[0m",
      "\u001b[0;31mFileNotFoundError\u001b[0m                         Traceback (most recent call last)",
      "\u001b[0;32m<ipython-input-16-27ea679e218f>\u001b[0m in \u001b[0;36m<module>\u001b[0;34m\u001b[0m\n\u001b[1;32m      4\u001b[0m fitdir = os.path.join(os.path.expanduser('~'), 'Documents', 'github', 'montepython_public-3.3', \n\u001b[1;32m      5\u001b[0m                       'cf', '2021', '06', run)\n\u001b[0;32m----> 6\u001b[0;31m \u001b[0mbestfit\u001b[0m \u001b[0;34m=\u001b[0m \u001b[0mnp\u001b[0m\u001b[0;34m.\u001b[0m\u001b[0mloadtxt\u001b[0m\u001b[0;34m(\u001b[0m\u001b[0mopen\u001b[0m\u001b[0;34m(\u001b[0m\u001b[0mos\u001b[0m\u001b[0;34m.\u001b[0m\u001b[0mpath\u001b[0m\u001b[0;34m.\u001b[0m\u001b[0mjoin\u001b[0m\u001b[0;34m(\u001b[0m\u001b[0mfitdir\u001b[0m\u001b[0;34m,\u001b[0m \u001b[0mrun\u001b[0m \u001b[0;34m+\u001b[0m \u001b[0;34m'.bestfit'\u001b[0m\u001b[0;34m)\u001b[0m\u001b[0;34m,\u001b[0m \u001b[0;34m'r'\u001b[0m\u001b[0;34m)\u001b[0m\u001b[0;34m)\u001b[0m\u001b[0;34m\u001b[0m\u001b[0;34m\u001b[0m\u001b[0m\n\u001b[0m\u001b[1;32m      7\u001b[0m \u001b[0mconfigfile\u001b[0m \u001b[0;34m=\u001b[0m \u001b[0mos\u001b[0m\u001b[0;34m.\u001b[0m\u001b[0mpath\u001b[0m\u001b[0;34m.\u001b[0m\u001b[0mjoin\u001b[0m\u001b[0;34m(\u001b[0m\u001b[0mfitdir\u001b[0m\u001b[0;34m,\u001b[0m \u001b[0;34m'config.yaml'\u001b[0m\u001b[0;34m)\u001b[0m\u001b[0;34m\u001b[0m\u001b[0;34m\u001b[0m\u001b[0m\n\u001b[1;32m      8\u001b[0m \u001b[0;34m\u001b[0m\u001b[0m\n",
      "\u001b[0;31mFileNotFoundError\u001b[0m: [Errno 2] No such file or directory: '/Users/pierre/Documents/github/montepython_public-3.3/cf/2021/06/boss_cf_20/boss_cf_20.bestfit'"
     ]
    }
   ],
   "source": [
    "# Load the best fit file\n",
    "# run = 'Jdesisn_0p28'\n",
    "run = 'boss_cf_20'\n",
    "fitdir = os.path.join(os.path.expanduser('~'), 'Documents', 'github', 'montepython_public-3.3', \n",
    "                      'cf', '2021', '06', run)\n",
    "bestfit = np.loadtxt(open(os.path.join(fitdir, run + '.bestfit'), 'r'))\n",
    "configfile = os.path.join(fitdir, 'config.yaml')\n",
    "\n",
    "l = []\n",
    "with open(os.path.join(fitdir, run + '.bestfit'), 'r') as f:\n",
    "    l.append(f.readline().split(','))\n",
    "    l.append(f.readline().split(','))\n",
    "\n",
    "print(list(zip(l[0], bestfit)))"
   ]
  },
  {
   "cell_type": "code",
   "execution_count": 13,
   "metadata": {},
   "outputs": [],
   "source": [
    "# If we want different parameters and order, need to modify __set_cosmo\n",
    "cosmolabels = ['omega_b', 'omega_cdm', 'h', 'ln10^{10}A_s', 'n_s' ]\n",
    "# cosmofid = bestfit[:5]\n",
    "# Fiducial cosmo parameters, close to Planck18 cosmology (but no neutrinos)\n",
    "#cosmosynth = {'omega_b': 0.0223, 'omega_cdm': 0.12, 'h': 0.674, 'ln10^{10}A_s': 3.04, 'n_s': 0.965, 'Omega_m': (0.0223+0.12)/0.674**2}\n",
    "cosmosynth = {'omega_b': 0.0214394, 'omega_cdm': 0.1150, 'h': 0.654083, 'ln10^{10}A_s': 3.05147, 'n_s': 0.9649, 'Omega_m': 0.318986}\n",
    "cosmofid = [cosmosynth['omega_b'], cosmosynth['omega_cdm'], cosmosynth['h'], cosmosynth['ln10^{10}A_s'], cosmosynth['n_s']]"
   ]
  },
  {
   "cell_type": "code",
   "execution_count": 14,
   "metadata": {},
   "outputs": [],
   "source": [
    "labels = ['omega_b', 'omega_cdm', 'h', 'lnA_s', 'n_s' ] + [\"b1\", \"c2\"] + [\"b3\", \"cct\", \"cr1\", \"cr2\", \"ce2\", \"ce1\", \"sn\"]"
   ]
  },
  {
   "cell_type": "code",
   "execution_count": 8,
   "metadata": {},
   "outputs": [
    {
     "name": "stdout",
     "output_type": "stream",
     "text": [
      "{'output': 'bPk', 'multipole': 3, 'wedge': 0, 'skycut': 1, 'z': [0.61], 'with_redshift_bin': False, 'with_AP': True, 'z_AP': [0.61], 'Omega_m_AP': 0.3, 'with_window': False, 'with_binning': True, 'with_fibercol': False, 'with_stoch': True, 'model': 4, 'with_bao': False, 'xmin': [0.007], 'xmax': [0.14], 'covmat_file': ['pybird/Covariance/cov_ptchallenge_desi_nbar2e-3.dat'], 'spectrum_file': ['pybird/DataSims/meanps1D_ChallengeJapanCMASS2.dat'], 'nd': 0.0003, 'km': 0.7, 'with_bbn': True, 'omega_b_BBNcenter': 0.0214394, 'omega_b_BBNsigma': 0.00036, 'get_chi2_from_marg': True}\n"
     ]
    }
   ],
   "source": [
    "# Check the configdic!\n",
    "configdic = yaml.full_load(open(configfile, 'r'))\n",
    "configdic[\"get_chi2_from_marg\"] = True\n",
    "print (configdic)"
   ]
  },
  {
   "cell_type": "code",
   "execution_count": 9,
   "metadata": {},
   "outputs": [
    {
     "name": "stdout",
     "output_type": "stream",
     "text": [
      "with_exact_time : False\n",
      "with_tidal_alignments : False\n",
      "with_nnlo_counterterm : False\n",
      "with_nnlo_higher_derivative : False\n",
      "get_chi2_from_marg : True\n",
      "with_derived_bias : False\n",
      "with_quintessence : False\n",
      "with_cf_sys : False\n",
      "xmaxspacing : False\n",
      "BAO recon: none\n",
      "EFT priors: b3: 2.0, cct: 2.0, cr1: 4.0, cr2: 4.0, ce2: 2.0, ce1: 2.0, shotnoise: 2.0 (default)\n",
      "output: bPk\n",
      "multipole: 3\n",
      "wedge: 0\n",
      "skycut: 1\n",
      "BBN prior on omega_b: on\n"
     ]
    }
   ],
   "source": [
    "PBfid = Lkl_bird(cosmofid, configdic)"
   ]
  },
  {
   "cell_type": "code",
   "execution_count": 10,
   "metadata": {},
   "outputs": [
    {
     "name": "stdout",
     "output_type": "stream",
     "text": [
      "chi2: 34.11\n",
      "[ 1.958       1.162      -0.98894981 -5.291352   -0.53361208 -2.29490048\n",
      " -2.23123312 -2.54398234  0.53869268]\n"
     ]
    }
   ],
   "source": [
    "bngfid = np.array([1.958, 1.162])\n",
    "bgfid = PBfid.get_bg(cosmofid, [bngfid])\n",
    "allbfid = np.concatenate([bngfid, bgfid])\n",
    "print (allbfid)"
   ]
  },
  {
   "cell_type": "markdown",
   "metadata": {},
   "source": [
    "DESI nbar"
   ]
  },
  {
   "cell_type": "code",
   "execution_count": 11,
   "metadata": {},
   "outputs": [
    {
     "name": "stdout",
     "output_type": "stream",
     "text": [
      "with_exact_time : False\n",
      "with_tidal_alignments : False\n",
      "with_nnlo_counterterm : False\n",
      "with_nnlo_higher_derivative : False\n",
      "get_chi2_from_marg : True\n",
      "with_derived_bias : False\n",
      "with_quintessence : False\n",
      "with_cf_sys : False\n",
      "xmaxspacing : False\n",
      "BAO recon: none\n",
      "EFT priors: b3: 2.0, cct: 2.0, cr1: 4.0, cr2: 4.0, ce2: 2.0, ce1: 2.0, shotnoise: 2.0 (default)\n",
      "output: bPk\n",
      "multipole: 3\n",
      "wedge: 0\n",
      "skycut: 1\n",
      "BBN prior on omega_b: on\n"
     ]
    }
   ],
   "source": [
    "configdic[\"nd\"] = 2.e-3\n",
    "PBfid = Lkl_bird(cosmofid, configdic)"
   ]
  },
  {
   "cell_type": "markdown",
   "metadata": {},
   "source": [
    "Derivatives"
   ]
  },
  {
   "cell_type": "code",
   "execution_count": 40,
   "metadata": {},
   "outputs": [
    {
     "name": "stdout",
     "output_type": "stream",
     "text": [
      "0\n",
      "with_exact_time : False\n",
      "with_tidal_alignments : False\n",
      "with_nnlo_counterterm : False\n",
      "with_nnlo_higher_derivative : False\n",
      "get_chi2_from_marg : True\n",
      "with_derived_bias : False\n",
      "with_quintessence : False\n",
      "with_cf_sys : False\n",
      "xmaxspacing : False\n",
      "BAO recon: none\n",
      "EFT priors: b3: 2.0, cct: 2.0, cr1: 4.0, cr2: 4.0, ce2: 2.0, ce1: 2.0, shotnoise: 2.0 (default)\n",
      "output: bPk\n",
      "multipole: 3\n",
      "wedge: 0\n",
      "skycut: 1\n",
      "BBN prior on omega_b: on\n",
      "with_exact_time : False\n",
      "with_tidal_alignments : False\n",
      "with_nnlo_counterterm : False\n",
      "with_nnlo_higher_derivative : False\n",
      "get_chi2_from_marg : True\n",
      "with_derived_bias : False\n",
      "with_quintessence : False\n",
      "with_cf_sys : False\n",
      "xmaxspacing : False\n",
      "BAO recon: none\n",
      "EFT priors: b3: 2.0, cct: 2.0, cr1: 4.0, cr2: 4.0, ce2: 2.0, ce1: 2.0, shotnoise: 2.0 (default)\n",
      "output: bPk\n",
      "multipole: 3\n",
      "wedge: 0\n",
      "skycut: 1\n",
      "BBN prior on omega_b: on\n",
      "1\n",
      "with_exact_time : False\n",
      "with_tidal_alignments : False\n",
      "with_nnlo_counterterm : False\n",
      "with_nnlo_higher_derivative : False\n",
      "get_chi2_from_marg : True\n",
      "with_derived_bias : False\n",
      "with_quintessence : False\n",
      "with_cf_sys : False\n",
      "xmaxspacing : False\n",
      "BAO recon: none\n",
      "EFT priors: b3: 2.0, cct: 2.0, cr1: 4.0, cr2: 4.0, ce2: 2.0, ce1: 2.0, shotnoise: 2.0 (default)\n",
      "output: bPk\n",
      "multipole: 3\n",
      "wedge: 0\n",
      "skycut: 1\n",
      "BBN prior on omega_b: on\n",
      "with_exact_time : False\n",
      "with_tidal_alignments : False\n",
      "with_nnlo_counterterm : False\n",
      "with_nnlo_higher_derivative : False\n",
      "get_chi2_from_marg : True\n",
      "with_derived_bias : False\n",
      "with_quintessence : False\n",
      "with_cf_sys : False\n",
      "xmaxspacing : False\n",
      "BAO recon: none\n",
      "EFT priors: b3: 2.0, cct: 2.0, cr1: 4.0, cr2: 4.0, ce2: 2.0, ce1: 2.0, shotnoise: 2.0 (default)\n",
      "output: bPk\n",
      "multipole: 3\n",
      "wedge: 0\n",
      "skycut: 1\n",
      "BBN prior on omega_b: on\n",
      "2\n",
      "with_exact_time : False\n",
      "with_tidal_alignments : False\n",
      "with_nnlo_counterterm : False\n",
      "with_nnlo_higher_derivative : False\n",
      "get_chi2_from_marg : True\n",
      "with_derived_bias : False\n",
      "with_quintessence : False\n",
      "with_cf_sys : False\n",
      "xmaxspacing : False\n",
      "BAO recon: none\n",
      "EFT priors: b3: 2.0, cct: 2.0, cr1: 4.0, cr2: 4.0, ce2: 2.0, ce1: 2.0, shotnoise: 2.0 (default)\n",
      "output: bPk\n",
      "multipole: 3\n",
      "wedge: 0\n",
      "skycut: 1\n",
      "BBN prior on omega_b: on\n",
      "with_exact_time : False\n",
      "with_tidal_alignments : False\n",
      "with_nnlo_counterterm : False\n",
      "with_nnlo_higher_derivative : False\n",
      "get_chi2_from_marg : True\n",
      "with_derived_bias : False\n",
      "with_quintessence : False\n",
      "with_cf_sys : False\n",
      "xmaxspacing : False\n",
      "BAO recon: none\n",
      "EFT priors: b3: 2.0, cct: 2.0, cr1: 4.0, cr2: 4.0, ce2: 2.0, ce1: 2.0, shotnoise: 2.0 (default)\n",
      "output: bPk\n",
      "multipole: 3\n",
      "wedge: 0\n",
      "skycut: 1\n",
      "BBN prior on omega_b: on\n",
      "3\n",
      "with_exact_time : False\n",
      "with_tidal_alignments : False\n",
      "with_nnlo_counterterm : False\n",
      "with_nnlo_higher_derivative : False\n",
      "get_chi2_from_marg : True\n",
      "with_derived_bias : False\n",
      "with_quintessence : False\n",
      "with_cf_sys : False\n",
      "xmaxspacing : False\n",
      "BAO recon: none\n",
      "EFT priors: b3: 2.0, cct: 2.0, cr1: 4.0, cr2: 4.0, ce2: 2.0, ce1: 2.0, shotnoise: 2.0 (default)\n",
      "output: bPk\n",
      "multipole: 3\n",
      "wedge: 0\n",
      "skycut: 1\n",
      "BBN prior on omega_b: on\n",
      "with_exact_time : False\n",
      "with_tidal_alignments : False\n",
      "with_nnlo_counterterm : False\n",
      "with_nnlo_higher_derivative : False\n",
      "get_chi2_from_marg : True\n",
      "with_derived_bias : False\n",
      "with_quintessence : False\n",
      "with_cf_sys : False\n",
      "xmaxspacing : False\n",
      "BAO recon: none\n",
      "EFT priors: b3: 2.0, cct: 2.0, cr1: 4.0, cr2: 4.0, ce2: 2.0, ce1: 2.0, shotnoise: 2.0 (default)\n",
      "output: bPk\n",
      "multipole: 3\n",
      "wedge: 0\n",
      "skycut: 1\n",
      "BBN prior on omega_b: on\n",
      "4\n",
      "with_exact_time : False\n",
      "with_tidal_alignments : False\n",
      "with_nnlo_counterterm : False\n",
      "with_nnlo_higher_derivative : False\n",
      "get_chi2_from_marg : True\n",
      "with_derived_bias : False\n",
      "with_quintessence : False\n",
      "with_cf_sys : False\n",
      "xmaxspacing : False\n",
      "BAO recon: none\n",
      "EFT priors: b3: 2.0, cct: 2.0, cr1: 4.0, cr2: 4.0, ce2: 2.0, ce1: 2.0, shotnoise: 2.0 (default)\n",
      "output: bPk\n",
      "multipole: 3\n",
      "wedge: 0\n",
      "skycut: 1\n",
      "BBN prior on omega_b: on\n",
      "with_exact_time : False\n",
      "with_tidal_alignments : False\n",
      "with_nnlo_counterterm : False\n",
      "with_nnlo_higher_derivative : False\n",
      "get_chi2_from_marg : True\n",
      "with_derived_bias : False\n",
      "with_quintessence : False\n",
      "with_cf_sys : False\n",
      "xmaxspacing : False\n",
      "BAO recon: none\n",
      "EFT priors: b3: 2.0, cct: 2.0, cr1: 4.0, cr2: 4.0, ce2: 2.0, ce1: 2.0, shotnoise: 2.0 (default)\n",
      "output: bPk\n",
      "multipole: 3\n",
      "wedge: 0\n",
      "skycut: 1\n",
      "BBN prior on omega_b: on\n"
     ]
    }
   ],
   "source": [
    "delta = 0.1\n",
    "\n",
    "cosmoder = []\n",
    "for i in range(5):\n",
    "    print(i)\n",
    "    cosmop = copy.copy(cosmofid)\n",
    "    cosmop[i] = cosmofid[i] * (1 + delta)\n",
    "    PBp = Lkl_bird(cosmop, configdic)\n",
    "    corrp = PBp.get_correlator(bngfid, bgfid)\n",
    "\n",
    "    cosmom = copy.copy(cosmofid)\n",
    "    cosmom[i] = cosmofid[i] * (1 - delta)\n",
    "    PBm = Lkl_bird(cosmom, configdic)\n",
    "    corrm = PBm.get_correlator(bngfid, bgfid)\n",
    "    \n",
    "    cosmoder.append(0.5 * (corrp - corrm) / (cosmofid[i] * delta))"
   ]
  },
  {
   "cell_type": "code",
   "execution_count": 41,
   "metadata": {},
   "outputs": [],
   "source": [
    "bder = []\n",
    "delta = 0.3\n",
    "\n",
    "for i in range(len(allbfid)):\n",
    "    bp = copy.copy(allbfid)\n",
    "    bp[i] = bp[i] + delta\n",
    "    corrp = PBfid.get_correlator(bp[:2], bp[2:])\n",
    "    \n",
    "    bm = copy.copy(allbfid)\n",
    "    bm[i] = bm[i] - delta\n",
    "    corrm = PBfid.get_correlator(bm[:2], bm[2:])\n",
    "    \n",
    "    bder.append(0.5 * (corrp - corrm) / delta)"
   ]
  },
  {
   "cell_type": "markdown",
   "metadata": {},
   "source": [
    "Covariance DESI"
   ]
  },
  {
   "cell_type": "code",
   "execution_count": 42,
   "metadata": {},
   "outputs": [],
   "source": [
    "from scipy.special import legendre\n",
    "from scipy.interpolate import interp1d"
   ]
  },
  {
   "cell_type": "code",
   "execution_count": 43,
   "metadata": {},
   "outputs": [],
   "source": [
    "kconc, psmult, _ = np.loadtxt('../../../github/montepython_public-3.3/data/pybird/DataSims/ps1D_PTChallenge_mean.dat', unpack=True)\n",
    "kk = kconc.reshape(3, -1)[0]\n",
    "Nk = len(kk)"
   ]
  },
  {
   "cell_type": "code",
   "execution_count": 44,
   "metadata": {},
   "outputs": [
    {
     "name": "stdout",
     "output_type": "stream",
     "text": [
      "with_exact_time : False\n",
      "with_tidal_alignments : False\n",
      "with_nnlo_counterterm : False\n",
      "with_nnlo_higher_derivative : False\n",
      "get_chi2_from_marg : True\n",
      "with_derived_bias : False\n",
      "with_quintessence : False\n",
      "with_cf_sys : False\n",
      "xmaxspacing : False\n",
      "BAO recon: none\n",
      "EFT priors: b3: 2.0, cct: 2.0, cr1: 4.0, cr2: 4.0, ce2: 2.0, ce1: 2.0, shotnoise: 2.0 (default)\n",
      "output: bPk\n",
      "multipole: 3\n",
      "wedge: 0\n",
      "skycut: 1\n",
      "BBN prior on omega_b: on\n"
     ]
    }
   ],
   "source": [
    "configdic_multipole = copy.copy(configdic)\n",
    "configdic_multipole[\"wedge\"] = 0\n",
    "PBmult = Lkl_bird(cosmofid, configdic_multipole)"
   ]
  },
  {
   "cell_type": "code",
   "execution_count": 45,
   "metadata": {},
   "outputs": [],
   "source": [
    "def Nmode(k, dk=0.005, Vs=3.84 * 1e3**3 * 10): \n",
    "    return 4 * np.pi * k**2 * dk / ( (2*np.pi**3) / Vs ) # this is true for k >> kf\n",
    "\n",
    "dk = np.concatenate((kk[1:]-kk[:-1], [kk[-1]-kk[-2]]))\n",
    "Nmode_desi = Nmode(kk, dk=dk, Vs = 3.84**3 * 1e3**3 * 10 / 22.64)\n",
    "\n",
    "def getcov(nbar=3.e-4, Nmode=Nmode_desi):\n",
    "    mu = np.linspace(0., 1., 200)\n",
    "    k_mesh, mu_mesh = np.meshgrid(kk, mu, indexing='ij')\n",
    "    legendre_mesh = np.array([legendre(2*l)(mu_mesh) for l in range(3)])\n",
    "    legendre_ell_mesh = np.array([(2*(2*l)+1)*legendre(2*l)(mu_mesh) for l in range(3)])\n",
    "    pk = PBmult.get_correlator(bngfid, bgfid, masked=False).reshape(3,-1)\n",
    "    pk_interp = interp1d(kk, pk, axis=-1, kind='cubic', bounds_error=False, fill_value=0)\n",
    "    pkmu_mesh = np.einsum('lkm,lkm->km', pk_interp(k_mesh), legendre_mesh)\n",
    "    integrand_mu_mesh = np.einsum('k,km,lkm,pkm->lpkm', 1/Nmode, (pkmu_mesh + 1/nbar)**2, legendre_ell_mesh, legendre_ell_mesh)\n",
    "    cov_diagonal = 2 * np.trapz(integrand_mu_mesh, x=mu, axis=-1)\n",
    "    return 4 * np.block([[np.diag(cov_diagonal[i,j]) for i in range(3)] for j in range(3)]) # not sure where I missed a factor 4?\n",
    "\n",
    "cov_desi = getcov(nbar=configdic[\"nd\"])"
   ]
  },
  {
   "cell_type": "code",
   "execution_count": 25,
   "metadata": {},
   "outputs": [],
   "source": [
    "cov_resh = cov_desi.reshape((3, cov_desi.shape[0] // 3, 3, cov_desi.shape[1] // 3))\n",
    "# b2, b3, c2, c3 = np.array([-1./9., -85./324., 5./9., 5./324.]) # w2/3, w3/3\n",
    "b2, b3, c2, c3 = np.array([-3/8., 15/128., 3/8., -15./128.]) # w1/2, w2/2\n",
    "b1 = 1.\n",
    "c1 = 1.\n",
    "mat = np.array([[1., -3./7., 11./56.], [b1, b2, b3], [c1, c2, c3]])\n",
    "cov_desi = np.einsum('al,bm,lkmj->akbj', mat, mat, cov_resh).reshape(cov_desi.shape) "
   ]
  },
  {
   "cell_type": "code",
   "execution_count": 48,
   "metadata": {},
   "outputs": [],
   "source": [
    "cov_desi = cov_desi[PBfid.xmask[0].reshape((len(PBfid.xmask[0]), 1)), PBfid.xmask[0]]\n",
    "invcov = np.linalg.inv(cov_desi)"
   ]
  },
  {
   "cell_type": "markdown",
   "metadata": {},
   "source": [
    "Fisher"
   ]
  },
  {
   "cell_type": "code",
   "execution_count": 49,
   "metadata": {},
   "outputs": [],
   "source": [
    "allder = np.concatenate([cosmoder, bder])\n",
    "fisher = np.dot(allder, np.dot(invcov, allder.T)) # invcov[0] for 1 single skycut"
   ]
  },
  {
   "cell_type": "code",
   "execution_count": 50,
   "metadata": {},
   "outputs": [],
   "source": [
    "# Build BBN prior on \\omega_b. Remember that the Fisher is the inverse covariance\n",
    "# sigma_BBN = 3.5e-4 (tight)\n",
    "# sigma_BBN = 5e-4 (large)\n",
    "priorBBN = np.zeros_like(fisher)\n",
    "priorBBN[0, 0] = 1. / (3.5e-4)**2"
   ]
  },
  {
   "cell_type": "code",
   "execution_count": 51,
   "metadata": {},
   "outputs": [],
   "source": [
    "# This is the inverse prior\n",
    "invpriormat = np.zeros(len(fisher))\n",
    "invpriormat[len(cosmofid) + 2:] = 1/2.**2\n",
    "invpriormat = np.diag(invpriormat)"
   ]
  },
  {
   "cell_type": "code",
   "execution_count": 52,
   "metadata": {},
   "outputs": [],
   "source": [
    "fishcov = np.linalg.inv(fisher + invpriormat + priorBBN)\n",
    "\n",
    "# np.savetxt(\"fisher/fisherlast_cov_prior.covmat\", fishcovprior, fmt='%.5e',\n",
    "#            header=(',  ').join(['omega_b', 'omega_cdm', 'h', 'ln10^{10}A_s', 'n_s'] + labels[5:]))\n",
    "           \n",
    "#rg = np.random.default_rng(0)\n",
    "samps = np.random.multivariate_normal(np.concatenate([cosmofid, bngfid, bgfid]), fishcov, size=int(1e5))"
   ]
  },
  {
   "cell_type": "code",
   "execution_count": 53,
   "metadata": {},
   "outputs": [
    {
     "name": "stdout",
     "output_type": "stream",
     "text": [
      "Removed no burn in\n"
     ]
    }
   ],
   "source": [
    "from getdist import plots, MCSamples\n",
    "\n",
    "samples = MCSamples(samples=samps, names = labels, labels = labels)\n",
    "\n",
    "def get_relative_posteriors(samples, truth):\n",
    "    p=samples.getParams()\n",
    "    # samples.addDerived(p.b1/truth['b1'], name='rb1', label=r'\\Delta b_1/b_1')\n",
    "    samples.addDerived(p.h/truth['h']-1, name='rh', label=r'\\Delta h/h')\n",
    "    try: samples.addDerived(np.log(1e10*p.A_s)/truth['ln10^{10}A_s']-1, name='rlnA_s', label=r'\\Delta \\ln 10^{10}A_s/\\ln10^{10}A_s')\n",
    "    except: samples.addDerived(p.lnA_s/truth['ln10^{10}A_s']-1, name='rlnA_s', label=r'\\Delta ln10^{10}A_s/ln10^{10}A_s')\n",
    "    samples.addDerived(p.omega_cdm/truth['omega_cdm']-1, name='romega_cdm', label=r'\\Delta \\omega_{cdm}/\\omega_{cdm}')\n",
    "    samples.addDerived(p.n_s/truth['n_s']-1, name='rn_s', label=r'\\Delta n_s/n_s')\n",
    "    samples.addDerived((p.omega_b+p.omega_cdm)/p.h**2/truth['Omega_m']-1, name='rOmega_m', label=r'\\Delta \\Omega_m/\\Omega_m')\n",
    "\n",
    "get_relative_posteriors(samples, cosmosynth)"
   ]
  },
  {
   "cell_type": "markdown",
   "metadata": {},
   "source": [
    "DESI multipole 0.14"
   ]
  },
  {
   "cell_type": "code",
   "execution_count": 54,
   "metadata": {},
   "outputs": [
    {
     "data": {
      "text/plain": [
       "<Figure size 864x648 with 0 Axes>"
      ]
     },
     "metadata": {},
     "output_type": "display_data"
    },
    {
     "data": {
      "image/png": "[encoded data removed]",
      "text/plain": [
       "<Figure size 864x648 with 10 Axes>"
      ]
     },
     "metadata": {
      "needs_background": "light"
     },
     "output_type": "display_data"
    }
   ],
   "source": [
    "g = plots.get_single_plotter(width_inch=12)\n",
    "g.triangle_plot([samples], ['rOmega_m', 'rh', 'rlnA_s', 'rn_s'], filled=True, \n",
    "                legend_labels = ['Full cov'],\n",
    "                title_limit=1)\n",
    "#g.export(os.path.join('fisher', \"fisher_0p04-0p2_resc2.pdf\"))\n",
    "plt.show()"
   ]
  },
  {
   "cell_type": "code",
   "execution_count": 55,
   "metadata": {},
   "outputs": [
    {
     "data": {
      "text/plain": [
       "array([0.79310345, 0.84545455, 0.88      , 0.82352941])"
      ]
     },
     "execution_count": 55,
     "metadata": {},
     "output_type": "execute_result"
    }
   ],
   "source": [
    "np.array([0.023, 0.0093, 0.022, 0.028]) / np.array([0.029, 0.011, 0.025, 0.034])"
   ]
  },
  {
   "cell_type": "markdown",
   "metadata": {},
   "source": [
    "DESI nbar, R + w1 + w2, kmax=0.38"
   ]
  },
  {
   "cell_type": "code",
   "execution_count": 32,
   "metadata": {},
   "outputs": [
    {
     "data": {
      "text/plain": [
       "<Figure size 864x648 with 0 Axes>"
      ]
     },
     "metadata": {},
     "output_type": "display_data"
    },
    {
     "data": {
      "image/png": "[encoded data removed]",
      "text/plain": [
       "<Figure size 864x648 with 10 Axes>"
      ]
     },
     "metadata": {
      "needs_background": "light"
     },
     "output_type": "display_data"
    }
   ],
   "source": [
    "g = plots.get_single_plotter(width_inch=12)\n",
    "g.triangle_plot([samples], ['rOmega_m', 'rh', 'rlnA_s', 'rn_s'], filled=True, \n",
    "                legend_labels = ['Full cov'],\n",
    "                title_limit=1)\n",
    "#g.export(os.path.join('fisher', \"fisher_0p04-0p2_resc2.pdf\"))\n",
    "plt.show()"
   ]
  },
  {
   "cell_type": "code",
   "execution_count": null,
   "metadata": {},
   "outputs": [],
   "source": []
  },
  {
   "cell_type": "code",
   "execution_count": null,
   "metadata": {},
   "outputs": [],
   "source": []
  },
  {
   "cell_type": "code",
   "execution_count": 32,
   "metadata": {},
   "outputs": [],
   "source": [
    "parcorr = samples.corr()"
   ]
  },
  {
   "cell_type": "code",
   "execution_count": 33,
   "metadata": {},
   "outputs": [
    {
     "data": {
      "image/png": "[encoded data removed]",
      "text/plain": [
       "<Figure size 446.4x446.4 with 2 Axes>"
      ]
     },
     "metadata": {
      "needs_background": "light"
     },
     "output_type": "display_data"
    }
   ],
   "source": [
    "plt.matshow(parcorr)\n",
    "plt.colorbar()\n",
    "plt.show()"
   ]
  },
  {
   "cell_type": "code",
   "execution_count": 34,
   "metadata": {},
   "outputs": [
    {
     "data": {
      "image/png": "[encoded data removed]",
      "text/plain": [
       "<Figure size 446.4x446.4 with 2 Axes>"
      ]
     },
     "metadata": {
      "needs_background": "light"
     },
     "output_type": "display_data"
    }
   ],
   "source": [
    "plt.matshow(corr_from_cov(fishcov))\n",
    "plt.colorbar()\n",
    "plt.show()"
   ]
  },
  {
   "cell_type": "code",
   "execution_count": null,
   "metadata": {},
   "outputs": [],
   "source": []
  },
  {
   "cell_type": "code",
   "execution_count": 60,
   "metadata": {},
   "outputs": [
    {
     "data": {
      "text/plain": [
       "0.5859999999999985"
      ]
     },
     "execution_count": 60,
     "metadata": {},
     "output_type": "execute_result"
    }
   ],
   "source": [
    "48.876-48.29"
   ]
  },
  {
   "cell_type": "code",
   "execution_count": null,
   "metadata": {},
   "outputs": [],
   "source": []
  }
 ],
 "metadata": {
  "kernelspec": {
   "display_name": "Python 3",
   "language": "python",
   "name": "python3"
  },
  "language_info": {
   "codemirror_mode": {
    "name": "ipython",
    "version": 3
   },
   "file_extension": ".py",
   "mimetype": "text/x-python",
   "name": "python",
   "nbconvert_exporter": "python",
   "pygments_lexer": "ipython3",
   "version": "3.7.3"
  }
 },
 "nbformat": 4,
 "nbformat_minor": 4
}
